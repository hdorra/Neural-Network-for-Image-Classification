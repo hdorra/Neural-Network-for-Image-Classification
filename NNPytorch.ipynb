{
  "nbformat": 4,
  "nbformat_minor": 0,
  "metadata": {
    "kernelspec": {
      "name": "python3",
      "display_name": "Python 3"
    },
    "colab": {
      "provenance": []
    },
    "accelerator": "GPU",
    "gpuClass": "standard"
  },
  "cells": [
    {
      "cell_type": "markdown",
      "metadata": {
        "id": "yeIXFfAumNWV"
      },
      "source": [
        "# Neural Network In Pytorch\n",
        "This project aims to get familiarized with building the whole pipeline of deep learning in Pytorch to perform classification and test it out on the CIFAR-10 dataset. "
      ]
    },
    {
      "cell_type": "code",
      "metadata": {
        "id": "_BD5dqNGm1b6",
        "colab": {
          "base_uri": "https://localhost:8080/"
        },
        "outputId": "7432a2f4-ac0b-46bb-d68a-0377ac3c6cde"
      },
      "source": [
        "from google.colab import drive\n",
        "drive.mount('/content/gdrive')"
      ],
      "execution_count": null,
      "outputs": [
        {
          "output_type": "stream",
          "name": "stdout",
          "text": [
            "Mounted at /content/gdrive\n"
          ]
        }
      ]
    },
    {
      "cell_type": "code",
      "metadata": {
        "id": "J3HggVCdm8iV"
      },
      "source": [
        "%cd gdrive/MyDrive/'Colab '/PytorchExample"
      ],
      "execution_count": null,
      "outputs": []
    },
    {
      "cell_type": "code",
      "metadata": {
        "id": "75XndHcNuL0r"
      },
      "source": [
        "! pip install torch_utils"
      ],
      "execution_count": null,
      "outputs": []
    },
    {
      "cell_type": "markdown",
      "metadata": {
        "id": "Mzuptv--6uXv"
      },
      "source": [
        "## Design the Neural Network and Data Preparation\n"
      ]
    },
    {
      "cell_type": "code",
      "metadata": {
        "id": "v4wg5xqcxNEi"
      },
      "source": [
        "from IPython.core.interactiveshell import InteractiveShell\n",
        "InteractiveShell.ast_node_interactivity = \"all\"\n",
        "\n",
        "# import modules\n",
        "import pandas as pd\n",
        "import numpy as np\n",
        "import matplotlib.pyplot as plt\n",
        "import torch\n",
        "from torch import cuda\n",
        "import torch.nn as nn\n",
        "from torch.utils.data import TensorDataset, DataLoader, sampler\n",
        "import torch.nn.functional as F\n",
        "from torch_utils import AverageMeter\n",
        "import math\n",
        "import matplotlib.pyplot as plt\n",
        "from sklearn.metrics import mean_squared_error\n",
        "from numpy import inf\n",
        "\n",
        "\n",
        "from sklearn.model_selection import train_test_split\n",
        "import os\n",
        "from glob import glob\n",
        "from torchvision import transforms\n",
        "from torchvision import datasets\n",
        "from torchvision import models\n",
        "from torch import optim, cuda, Tensor\n",
        "import tqdm\n",
        "\n",
        "# Data science tools\n",
        "import numpy as np\n",
        "\n",
        "import os\n",
        "\n",
        "# Image manipulations\n",
        "from PIL import Image\n",
        "from timeit import default_timer as timer\n",
        "\n",
        "# Visualizations\n",
        "import matplotlib.pyplot as plt\n",
        "\n",
        "import warnings\n",
        "warnings.filterwarnings('ignore', category=FutureWarning)"
      ],
      "execution_count": null,
      "outputs": []
    },
    {
      "cell_type": "markdown",
      "metadata": {
        "id": "NPX2j9gCHFOW"
      },
      "source": [
        "## Network Design\n",
        "Define a class for the network. The network should include two linear layer, one Relu layer, and one dropout layer."
      ]
    },
    {
      "cell_type": "code",
      "metadata": {
        "id": "xDl90_EICBFp"
      },
      "source": [
        "# Define model\n",
        "class bmodel(nn.Module):\n",
        "    def __init__(self, input_d, hidden_d, output_d):\n",
        "        super().__init__()\n",
        "        # Define all the layers that are needed in the network\n",
        "        self.fc1 = nn.Linear(input_d, hidden_d, dtype=torch.float32)\n",
        "        self.fc2 = nn.Linear(hidden_d, output_d, dtype=torch.float32)\n",
        "        self.relu = nn.ReLU()\n",
        "        self.dropout = nn.Dropout(p=0.5)\n",
        "\n",
        "    def forward(self, x):\n",
        "        # Design the network structure \n",
        "        x = self.relu(self.fc1(x))\n",
        "        x = self.dropout(x)\n",
        "        x = self.fc2(x)\n",
        "        return x\n",
        "\n"
      ],
      "execution_count": null,
      "outputs": []
    },
    {
      "cell_type": "code",
      "metadata": {
        "id": "UqhzirmamNWj",
        "colab": {
          "base_uri": "https://localhost:8080/"
        },
        "outputId": "04b645eb-d479-4f2c-bd63-a5b101b91e1b"
      },
      "source": [
        "# Create a small net and some toy data to check implementations.\n",
        "input_size = 4\n",
        "hidden_size = 10\n",
        "num_classes = 3\n",
        "num_inputs = 5\n",
        "\n",
        "def init_toy_model():\n",
        "    np.random.seed(0)\n",
        "    return bmodel(input_size, hidden_size, num_classes)\n",
        "\n",
        "def init_toy_data():\n",
        "    np.random.seed(1)\n",
        "    X = 10 * np.random.randn(num_inputs, input_size)\n",
        "    y = np.array([0, 1, 2, 2, 1])\n",
        "    return X, y\n",
        "\n",
        "toy_model = init_toy_model()\n",
        "\n",
        "if train_on_gpu:\n",
        "    toy_model.cuda()\n",
        "\n",
        "train_X, train_Y = init_toy_data()\n",
        "validation_X, validation_Y = init_toy_data()\n"
      ],
      "execution_count": null,
      "outputs": [
        {
          "output_type": "execute_result",
          "data": {
            "text/plain": [
              "bmodel(\n",
              "  (fc1): Linear(in_features=4, out_features=10, bias=True)\n",
              "  (fc2): Linear(in_features=10, out_features=3, bias=True)\n",
              "  (relu): ReLU()\n",
              "  (dropout): Dropout(p=0.5, inplace=False)\n",
              ")"
            ]
          },
          "metadata": {},
          "execution_count": 64
        }
      ]
    },
    {
      "cell_type": "code",
      "metadata": {
        "id": "qNhcttlxJSOk",
        "colab": {
          "base_uri": "https://localhost:8080/"
        },
        "outputId": "53f0c23e-b0f2-4fb9-f9b4-e71ccc28eb3c"
      },
      "source": [
        "# Check whether there is a gpu for cuda\n",
        "train_on_gpu = cuda.is_available()\n",
        "print(f'Train on gpu: {train_on_gpu}')\n",
        "\n",
        "# Number of gpus\n",
        "if train_on_gpu:\n",
        "    gpu_count = cuda.device_count()\n",
        "    print(f'{gpu_count} gpus detected.')\n",
        "    if gpu_count > 1:\n",
        "        multi_gpu = True\n",
        "    else:\n",
        "        multi_gpu = False\n",
        "else:\n",
        "    multi_gpu = False\n",
        "print(train_on_gpu,multi_gpu)"
      ],
      "execution_count": null,
      "outputs": [
        {
          "output_type": "stream",
          "name": "stdout",
          "text": [
            "Train on gpu: True\n",
            "1 gpus detected.\n",
            "True False\n"
          ]
        }
      ]
    },
    {
      "cell_type": "markdown",
      "metadata": {
        "id": "jFXQ5rioKcOP"
      },
      "source": [
        "### Data Preparation\n",
        "Organize the data before loading them into the network."
      ]
    },
    {
      "cell_type": "code",
      "metadata": {
        "id": "kOcdfL03KVL6",
        "colab": {
          "base_uri": "https://localhost:8080/"
        },
        "outputId": "ce7d3ac3-ab15-4d6f-a28f-981dfffe64dc"
      },
      "source": [
        "batch_size = 1\n",
        "\n",
        "data = {\n",
        "    'train': TensorDataset(torch.from_numpy(train_X).float(), torch.from_numpy(train_Y).long()),\n",
        "    'valid': TensorDataset(torch.from_numpy(validation_X).float(), torch.from_numpy(validation_Y).long())\n",
        "}\n",
        "\n",
        "dataloaders = {\n",
        "    'train': DataLoader(data['train'], batch_size=batch_size, shuffle=True,num_workers=10),\n",
        "    'valid': DataLoader(data['valid'], batch_size=batch_size, shuffle=False, num_workers=10)\n",
        "}\n",
        "\n",
        "trainiter = iter(dataloaders['train'])\n",
        "features, labels = next(trainiter)\n",
        "features.shape, labels.shape\n"
      ],
      "execution_count": null,
      "outputs": [
        {
          "output_type": "execute_result",
          "data": {
            "text/plain": [
              "(torch.Size([1, 4]), torch.Size([1]))"
            ]
          },
          "metadata": {},
          "execution_count": 66
        }
      ]
    },
    {
      "cell_type": "markdown",
      "metadata": {
        "id": "JPQQ7iRaNgIp"
      },
      "source": [
        "### Setting Learning Parameters\n",
        "In the training process, need to set up the loss function and optimizer tool."
      ]
    },
    {
      "cell_type": "code",
      "metadata": {
        "id": "Y6PbdfxENdOJ",
        "colab": {
          "base_uri": "https://localhost:8080/"
        },
        "outputId": "5065d305-773e-4cb0-b41f-09e7d3ad5f52"
      },
      "source": [
        "# Set up criterion and optimizer\n",
        "criterion = nn.CrossEntropyLoss()\n",
        "optimizer = optim.Adam(toy_model.parameters(), lr=0.001) \n",
        "\n",
        "for p in optimizer.param_groups[0]['params']:\n",
        "    if p.requires_grad:\n",
        "        print(p.shape)"
      ],
      "execution_count": null,
      "outputs": [
        {
          "output_type": "stream",
          "name": "stdout",
          "text": [
            "torch.Size([10, 4])\n",
            "torch.Size([10])\n",
            "torch.Size([3, 10])\n",
            "torch.Size([3])\n"
          ]
        }
      ]
    },
    {
      "cell_type": "markdown",
      "metadata": {
        "id": "Ck08UYlKcGtk"
      },
      "source": [
        "## Build the Training Pipeline"
      ]
    },
    {
      "cell_type": "code",
      "metadata": {
        "id": "vw16i2tlOcbt"
      },
      "source": [
        "def train(model,\n",
        "          criterion,\n",
        "          optimizer,\n",
        "          train_loader,\n",
        "          valid_loader,\n",
        "          save_file_name,\n",
        "          max_epochs_stop=3,\n",
        "          n_epochs=10,\n",
        "          print_every=1):\n",
        "\n",
        "\n",
        "    \"\"\"Train a PyTorch Model\n",
        "\n",
        "        \n",
        "    Params\n",
        "    --------\n",
        "        model (PyTorch model): cnn to train\n",
        "        criterion (PyTorch loss): objective to minimize\n",
        "        optimizer (PyTorch optimizier): optimizer to compute gradients of model parameters\n",
        "        train_loader (PyTorch dataloader): training dataloader to iterate through\n",
        "        valid_loader (PyTorch dataloader): validation dataloader used for early stopping\n",
        "        save_file_name (str ending in '.pt'): file path to save the model state dict\n",
        "        max_epochs_stop (int): maximum number of epochs with no improvement in validation loss for early stopping\n",
        "        n_epochs (int): maximum number of training epochs\n",
        "        print_every (int): frequency of epochs to print training stats\n",
        "\n",
        "    Returns\n",
        "    --------\n",
        "        model (PyTorch model): trained cnn with best weights\n",
        "        history (DataFrame): history of train and validation loss and accuracy\n",
        "    \"\"\"\n",
        "\n",
        "    # Early stopping intialization\n",
        "    epochs_no_improve = 0\n",
        "    valid_loss_min = np.Inf\n",
        "\n",
        "    valid_max_acc = 0\n",
        "    history = []\n",
        "\n",
        "    # Number of epochs already trained (if using loaded in model weights)\n",
        "    try:\n",
        "        print(f'Model has been trained for: {model.epochs} epochs.\\n')\n",
        "    except:\n",
        "        model.epochs = 0\n",
        "        print(f'Starting Training from Scratch.\\n')\n",
        "\n",
        "        if train_on_gpu:\n",
        "           model = model.cuda()\n",
        "\n",
        "    overall_start = timer()\n",
        "\n",
        "    # Main loop\n",
        "    for epoch in range(n_epochs):\n",
        "\n",
        "        # keep track of training and validation loss each epoch\n",
        "        train_loss = 0.0\n",
        "        valid_loss = 0.0\n",
        "\n",
        "        train_acc = 0\n",
        "        valid_acc = 0\n",
        "\n",
        "        # Set to training\n",
        "        model.train()\n",
        "\n",
        "        start = timer()\n",
        "\n",
        "        # Training loop\n",
        "        for ii, (data, target) in enumerate(train_loader):\n",
        "\n",
        "            if train_on_gpu:\n",
        "                data, target = data.cuda(), target.cuda()\n",
        "\n",
        "            # Clear gradients\n",
        "            optimizer.zero_grad()\n",
        "          \n",
        "            # Forward path\n",
        "            output = model(data)\n",
        "\n",
        "            # Loss function \n",
        "            loss = criterion(output, target)\n",
        "\n",
        "            # Backward path (backpropagation)\n",
        "            loss.backward()\n",
        "\n",
        "            # Update the parameters\n",
        "            optimizer.step()\n",
        "\n",
        "            # Track train loss by multiplying average loss by number of examples in batch\n",
        "            train_loss += loss.item() * data.size(0)\n",
        "\n",
        "            # Calculate accuracy by finding max log probability\n",
        "            _, pred = torch.max(output, dim=1)\n",
        "            correct_tensor = pred.eq(target.data.view_as(pred))\n",
        "\n",
        "            # Need to convert correct tensor from int to float to average\n",
        "            accuracy = torch.mean(correct_tensor.type(torch.FloatTensor))\n",
        "\n",
        "            # Multiply average accuracy times the number of examples in batch\n",
        "            train_acc += accuracy.item() * data.size(0)\n",
        "\n",
        "            # Track training progress\n",
        "            print(\n",
        "                f'Epoch: {epoch}\\t{100 * (ii + 1) / len(train_loader):.2f}% complete. {timer() - start:.2f} seconds elapsed in epoch.',\n",
        "                end='\\r')\n",
        "\n",
        "        # After training loops ends, start validation\n",
        "        else:\n",
        "            model.epochs += 1\n",
        "\n",
        "            # Don't need to keep track of gradients\n",
        "            with torch.no_grad():\n",
        "\n",
        "                # Set to evaluation mode\n",
        "                model.eval()\n",
        "\n",
        "                # Validation loop\n",
        "                for data, target in valid_loader:\n",
        "                    # Tensors to gpu\n",
        "                    if train_on_gpu:\n",
        "                      data, target = data.cuda(), target.cuda()\n",
        "\n",
        "                    # Forward path\n",
        "                    output = model(data)\n",
        "\n",
        "                    # Validation loss computation\n",
        "                    loss = criterion(output, target)\n",
        "\n",
        "                    # Multiply average loss times the number of examples in batch\n",
        "                    valid_loss += loss.item() * data.size(0)\n",
        "\n",
        "                    # Calculate validation accuracy\n",
        "                    _, pred = torch.max(output, dim=1)\n",
        "                    correct_tensor = pred.eq(target.data.view_as(pred))\n",
        "                    accuracy = torch.mean(correct_tensor.type(torch.FloatTensor))\n",
        "\n",
        "                    # Multiply average accuracy times the number of examples\n",
        "                    valid_acc += accuracy.item() * data.size(0)\n",
        "\n",
        "\n",
        "                # Calculate average losses and Calculate average accuracy\n",
        "                train_loss = train_loss / len(train_loader.dataset)\n",
        "                valid_loss = valid_loss / len(valid_loader.dataset)\n",
        "\n",
        "                train_acc = train_acc / len(train_loader.dataset)\n",
        "                valid_acc = valid_acc / len(valid_loader.dataset)\n",
        "\n",
        "                history.append([train_loss, valid_loss, train_acc, valid_acc])\n",
        "\n",
        "                # Print training and validation results\n",
        "                if (epoch + 1) % print_every == 0:\n",
        "                    print(\n",
        "                        f'\\nEpoch: {epoch} \\tTraining Loss: {train_loss:.4f} \\tValidation Loss: {valid_loss:.4f}'\n",
        "                    )\n",
        "                    print(\n",
        "                        f'\\t\\tTraining Accuracy: {100 * train_acc:.2f}%\\t Validation Accuracy: {100 * valid_acc:.2f}%'\n",
        "                    )\n",
        "\n",
        "                # Save the model if validation loss decreases\n",
        "                if valid_loss < valid_loss_min:\n",
        "                    # Save model \n",
        "                    torch.save(model.state_dict(), save_file_name)\n",
        "\n",
        "                    # Track improvement\n",
        "                    epochs_no_improve = 0\n",
        "                    valid_loss_min = valid_loss\n",
        "                    valid_best_acc = valid_acc\n",
        "                    best_epoch = epoch\n",
        "\n",
        "                # Otherwise increment count of epochs with no improvement\n",
        "                else:\n",
        "                    epochs_no_improve += 1\n",
        "                    # Trigger early stopping\n",
        "                    if epochs_no_improve >= max_epochs_stop:\n",
        "                        print(\n",
        "                            f'\\nEarly Stopping! Total epochs: {epoch}. Best epoch: {best_epoch} with loss: {valid_loss_min:.2f} and acc: {100 * valid_acc:.2f}%'\n",
        "                        )\n",
        "                        total_time = timer() - overall_start\n",
        "                        print(\n",
        "                            f'{total_time:.2f} total seconds elapsed. {total_time / (epoch+1):.2f} seconds per epoch.'\n",
        "                        )\n",
        "\n",
        "                        # Load the best state dict\n",
        "                        model.load_state_dict(torch.load(save_file_name))\n",
        "\n",
        "                        # Attach the optimizer\n",
        "                        model.optimizer = optimizer\n",
        "\n",
        "                        # Format history\n",
        "                        history = pd.DataFrame(\n",
        "                            history,\n",
        "                            columns=[\n",
        "                                'train_loss', 'valid_loss', 'train_acc',\n",
        "                                'valid_acc'\n",
        "                            ])\n",
        "                        return model, history\n",
        "\n",
        "    # Attach the optimizer\n",
        "    model.optimizer = optimizer\n",
        "    \n",
        "    # Record overall time and print out stats\n",
        "    total_time = timer() - overall_start\n",
        "    print(\n",
        "        f'\\nBest epoch: {best_epoch} with loss: {valid_loss_min:.2f} and acc: {100 * valid_best_acc:.2f}%'\n",
        "    )\n",
        "    print(\n",
        "        f'{total_time:.2f} total seconds elapsed. {total_time / (epoch+1):.2f} seconds per epoch.'\n",
        "    )\n",
        "    # Format history\n",
        "    history = pd.DataFrame(\n",
        "        history,\n",
        "        columns=['train_loss', 'valid_loss', 'train_acc', 'valid_acc'])\n",
        "    \n",
        "    return model, history\n"
      ],
      "execution_count": null,
      "outputs": []
    },
    {
      "cell_type": "markdown",
      "metadata": {
        "id": "H4ZuMIexG7oo"
      },
      "source": [
        "## Train the network"
      ]
    },
    {
      "cell_type": "markdown",
      "metadata": {
        "id": "p_dFSRgzmNWr"
      },
      "source": [
        "### Train a Network With Toy Data\n"
      ]
    },
    {
      "cell_type": "code",
      "metadata": {
        "id": "LFI9SHsuReqs",
        "colab": {
          "base_uri": "https://localhost:8080/"
        },
        "outputId": "27d6711f-72ad-43b1-b551-2f426dcab5bb"
      },
      "source": [
        "from timeit import default_timer as timer\n",
        "save_file_name = f'toy_model_best_model.pt'\n",
        "train_on_gpu = cuda.is_available()\n",
        "\n",
        "model, history = train(\n",
        "    toy_model,\n",
        "    criterion,\n",
        "    optimizer,\n",
        "    dataloaders['train'], \n",
        "    dataloaders['valid'],\n",
        "    save_file_name=save_file_name,\n",
        "    max_epochs_stop=3,\n",
        "    n_epochs=500,\n",
        "    print_every=1)"
      ],
      "execution_count": null,
      "outputs": [
        {
          "output_type": "stream",
          "name": "stdout",
          "text": [
            "Starting Training from Scratch.\n",
            "\n",
            "\n",
            "Epoch: 0 \tTraining Loss: 1.5549 \tValidation Loss: 1.1269\n",
            "\t\tTraining Accuracy: 20.00%\t Validation Accuracy: 40.00%\n",
            "\n",
            "Epoch: 1 \tTraining Loss: 1.6768 \tValidation Loss: 1.1110\n",
            "\t\tTraining Accuracy: 20.00%\t Validation Accuracy: 40.00%\n",
            "\n",
            "Epoch: 2 \tTraining Loss: 1.2904 \tValidation Loss: 1.0908\n",
            "\t\tTraining Accuracy: 60.00%\t Validation Accuracy: 40.00%\n",
            "\n",
            "Epoch: 3 \tTraining Loss: 1.4178 \tValidation Loss: 1.0644\n",
            "\t\tTraining Accuracy: 20.00%\t Validation Accuracy: 40.00%\n",
            "\n",
            "Epoch: 4 \tTraining Loss: 1.8573 \tValidation Loss: 1.0408\n",
            "\t\tTraining Accuracy: 20.00%\t Validation Accuracy: 40.00%\n",
            "\n",
            "Epoch: 5 \tTraining Loss: 1.2273 \tValidation Loss: 1.0123\n",
            "\t\tTraining Accuracy: 40.00%\t Validation Accuracy: 40.00%\n",
            "\n",
            "Epoch: 6 \tTraining Loss: 1.1456 \tValidation Loss: 0.9891\n",
            "\t\tTraining Accuracy: 40.00%\t Validation Accuracy: 40.00%\n",
            "\n",
            "Epoch: 7 \tTraining Loss: 1.7153 \tValidation Loss: 0.9594\n",
            "\t\tTraining Accuracy: 0.00%\t Validation Accuracy: 40.00%\n",
            "\n",
            "Epoch: 8 \tTraining Loss: 1.1328 \tValidation Loss: 0.9352\n",
            "\t\tTraining Accuracy: 40.00%\t Validation Accuracy: 40.00%\n",
            "\n",
            "Epoch: 9 \tTraining Loss: 1.0393 \tValidation Loss: 0.9107\n",
            "\t\tTraining Accuracy: 60.00%\t Validation Accuracy: 40.00%\n",
            "\n",
            "Epoch: 10 \tTraining Loss: 1.4562 \tValidation Loss: 0.8865\n",
            "\t\tTraining Accuracy: 20.00%\t Validation Accuracy: 40.00%\n",
            "\n",
            "Epoch: 11 \tTraining Loss: 0.7999 \tValidation Loss: 0.8690\n",
            "\t\tTraining Accuracy: 40.00%\t Validation Accuracy: 40.00%\n",
            "\n",
            "Epoch: 12 \tTraining Loss: 1.1828 \tValidation Loss: 0.8502\n",
            "\t\tTraining Accuracy: 40.00%\t Validation Accuracy: 40.00%\n",
            "\n",
            "Epoch: 13 \tTraining Loss: 1.0896 \tValidation Loss: 0.8354\n",
            "\t\tTraining Accuracy: 20.00%\t Validation Accuracy: 40.00%\n",
            "\n",
            "Epoch: 14 \tTraining Loss: 1.2333 \tValidation Loss: 0.8193\n",
            "\t\tTraining Accuracy: 60.00%\t Validation Accuracy: 40.00%\n",
            "\n",
            "Epoch: 15 \tTraining Loss: 1.0933 \tValidation Loss: 0.8100\n",
            "\t\tTraining Accuracy: 0.00%\t Validation Accuracy: 40.00%\n",
            "\n",
            "Epoch: 16 \tTraining Loss: 1.3184 \tValidation Loss: 0.8004\n",
            "\t\tTraining Accuracy: 20.00%\t Validation Accuracy: 40.00%\n",
            "\n",
            "Epoch: 17 \tTraining Loss: 0.8130 \tValidation Loss: 0.7868\n",
            "\t\tTraining Accuracy: 20.00%\t Validation Accuracy: 40.00%\n",
            "\n",
            "Epoch: 18 \tTraining Loss: 1.2461 \tValidation Loss: 0.7758\n",
            "\t\tTraining Accuracy: 20.00%\t Validation Accuracy: 40.00%\n",
            "\n",
            "Epoch: 19 \tTraining Loss: 1.0660 \tValidation Loss: 0.7645\n",
            "\t\tTraining Accuracy: 20.00%\t Validation Accuracy: 40.00%\n",
            "\n",
            "Epoch: 20 \tTraining Loss: 0.7511 \tValidation Loss: 0.7538\n",
            "\t\tTraining Accuracy: 60.00%\t Validation Accuracy: 40.00%\n",
            "\n",
            "Epoch: 21 \tTraining Loss: 1.1864 \tValidation Loss: 0.7410\n",
            "\t\tTraining Accuracy: 40.00%\t Validation Accuracy: 40.00%\n",
            "\n",
            "Epoch: 22 \tTraining Loss: 1.0737 \tValidation Loss: 0.7292\n",
            "\t\tTraining Accuracy: 40.00%\t Validation Accuracy: 40.00%\n",
            "\n",
            "Epoch: 23 \tTraining Loss: 0.9962 \tValidation Loss: 0.7179\n",
            "\t\tTraining Accuracy: 40.00%\t Validation Accuracy: 40.00%\n",
            "\n",
            "Epoch: 24 \tTraining Loss: 1.2254 \tValidation Loss: 0.7083\n",
            "\t\tTraining Accuracy: 40.00%\t Validation Accuracy: 40.00%\n",
            "\n",
            "Epoch: 25 \tTraining Loss: 0.9862 \tValidation Loss: 0.6991\n",
            "\t\tTraining Accuracy: 40.00%\t Validation Accuracy: 40.00%\n",
            "\n",
            "Epoch: 26 \tTraining Loss: 1.1394 \tValidation Loss: 0.6921\n",
            "\t\tTraining Accuracy: 20.00%\t Validation Accuracy: 40.00%\n",
            "\n",
            "Epoch: 27 \tTraining Loss: 0.8475 \tValidation Loss: 0.6875\n",
            "\t\tTraining Accuracy: 40.00%\t Validation Accuracy: 40.00%\n",
            "\n",
            "Epoch: 28 \tTraining Loss: 1.2189 \tValidation Loss: 0.6801\n",
            "\t\tTraining Accuracy: 40.00%\t Validation Accuracy: 40.00%\n",
            "\n",
            "Epoch: 29 \tTraining Loss: 0.9531 \tValidation Loss: 0.6726\n",
            "\t\tTraining Accuracy: 40.00%\t Validation Accuracy: 40.00%\n",
            "\n",
            "Epoch: 30 \tTraining Loss: 0.7960 \tValidation Loss: 0.6646\n",
            "\t\tTraining Accuracy: 40.00%\t Validation Accuracy: 60.00%\n",
            "\n",
            "Epoch: 31 \tTraining Loss: 0.5993 \tValidation Loss: 0.6571\n",
            "\t\tTraining Accuracy: 60.00%\t Validation Accuracy: 60.00%\n",
            "\n",
            "Epoch: 32 \tTraining Loss: 1.0794 \tValidation Loss: 0.6469\n",
            "\t\tTraining Accuracy: 20.00%\t Validation Accuracy: 60.00%\n",
            "\n",
            "Epoch: 33 \tTraining Loss: 1.1245 \tValidation Loss: 0.6365\n",
            "\t\tTraining Accuracy: 20.00%\t Validation Accuracy: 60.00%\n",
            "\n",
            "Epoch: 34 \tTraining Loss: 0.9545 \tValidation Loss: 0.6274\n",
            "\t\tTraining Accuracy: 40.00%\t Validation Accuracy: 60.00%\n",
            "\n",
            "Epoch: 35 \tTraining Loss: 0.8911 \tValidation Loss: 0.6188\n",
            "\t\tTraining Accuracy: 40.00%\t Validation Accuracy: 60.00%\n",
            "\n",
            "Epoch: 36 \tTraining Loss: 1.0337 \tValidation Loss: 0.6130\n",
            "\t\tTraining Accuracy: 40.00%\t Validation Accuracy: 60.00%\n",
            "\n",
            "Epoch: 37 \tTraining Loss: 0.7848 \tValidation Loss: 0.6090\n",
            "\t\tTraining Accuracy: 40.00%\t Validation Accuracy: 60.00%\n",
            "\n",
            "Epoch: 38 \tTraining Loss: 0.9876 \tValidation Loss: 0.6031\n",
            "\t\tTraining Accuracy: 40.00%\t Validation Accuracy: 60.00%\n",
            "\n",
            "Epoch: 39 \tTraining Loss: 0.8175 \tValidation Loss: 0.5962\n",
            "\t\tTraining Accuracy: 60.00%\t Validation Accuracy: 60.00%\n",
            "\n",
            "Epoch: 40 \tTraining Loss: 0.7106 \tValidation Loss: 0.5907\n",
            "\t\tTraining Accuracy: 60.00%\t Validation Accuracy: 60.00%\n",
            "\n",
            "Epoch: 41 \tTraining Loss: 0.8951 \tValidation Loss: 0.5847\n",
            "\t\tTraining Accuracy: 40.00%\t Validation Accuracy: 60.00%\n",
            "\n",
            "Epoch: 42 \tTraining Loss: 0.8409 \tValidation Loss: 0.5797\n",
            "\t\tTraining Accuracy: 80.00%\t Validation Accuracy: 80.00%\n",
            "\n",
            "Epoch: 43 \tTraining Loss: 0.9216 \tValidation Loss: 0.5746\n",
            "\t\tTraining Accuracy: 40.00%\t Validation Accuracy: 80.00%\n",
            "\n",
            "Epoch: 44 \tTraining Loss: 0.7831 \tValidation Loss: 0.5691\n",
            "\t\tTraining Accuracy: 60.00%\t Validation Accuracy: 80.00%\n",
            "\n",
            "Epoch: 45 \tTraining Loss: 1.0558 \tValidation Loss: 0.5642\n",
            "\t\tTraining Accuracy: 40.00%\t Validation Accuracy: 80.00%\n",
            "\n",
            "Epoch: 46 \tTraining Loss: 1.0986 \tValidation Loss: 0.5598\n",
            "\t\tTraining Accuracy: 40.00%\t Validation Accuracy: 80.00%\n",
            "\n",
            "Epoch: 47 \tTraining Loss: 1.0341 \tValidation Loss: 0.5540\n",
            "\t\tTraining Accuracy: 60.00%\t Validation Accuracy: 80.00%\n",
            "\n",
            "Epoch: 48 \tTraining Loss: 1.0440 \tValidation Loss: 0.5481\n",
            "\t\tTraining Accuracy: 60.00%\t Validation Accuracy: 100.00%\n",
            "\n",
            "Epoch: 49 \tTraining Loss: 0.7645 \tValidation Loss: 0.5417\n",
            "\t\tTraining Accuracy: 60.00%\t Validation Accuracy: 100.00%\n",
            "\n",
            "Epoch: 50 \tTraining Loss: 0.8046 \tValidation Loss: 0.5362\n",
            "\t\tTraining Accuracy: 80.00%\t Validation Accuracy: 100.00%\n",
            "\n",
            "Epoch: 51 \tTraining Loss: 1.0534 \tValidation Loss: 0.5298\n",
            "\t\tTraining Accuracy: 20.00%\t Validation Accuracy: 100.00%\n",
            "\n",
            "Epoch: 52 \tTraining Loss: 0.5834 \tValidation Loss: 0.5232\n",
            "\t\tTraining Accuracy: 80.00%\t Validation Accuracy: 100.00%\n",
            "\n",
            "Epoch: 53 \tTraining Loss: 0.6849 \tValidation Loss: 0.5161\n",
            "\t\tTraining Accuracy: 80.00%\t Validation Accuracy: 100.00%\n",
            "\n",
            "Epoch: 54 \tTraining Loss: 0.9659 \tValidation Loss: 0.5107\n",
            "\t\tTraining Accuracy: 40.00%\t Validation Accuracy: 100.00%\n",
            "\n",
            "Epoch: 55 \tTraining Loss: 0.7352 \tValidation Loss: 0.5067\n",
            "\t\tTraining Accuracy: 60.00%\t Validation Accuracy: 100.00%\n",
            "\n",
            "Epoch: 56 \tTraining Loss: 0.4819 \tValidation Loss: 0.5011\n",
            "\t\tTraining Accuracy: 100.00%\t Validation Accuracy: 100.00%\n",
            "\n",
            "Epoch: 57 \tTraining Loss: 0.6245 \tValidation Loss: 0.4956\n",
            "\t\tTraining Accuracy: 80.00%\t Validation Accuracy: 100.00%\n",
            "\n",
            "Epoch: 58 \tTraining Loss: 0.7107 \tValidation Loss: 0.4892\n",
            "\t\tTraining Accuracy: 80.00%\t Validation Accuracy: 100.00%\n",
            "\n",
            "Epoch: 59 \tTraining Loss: 0.6038 \tValidation Loss: 0.4824\n",
            "\t\tTraining Accuracy: 80.00%\t Validation Accuracy: 100.00%\n",
            "\n",
            "Epoch: 60 \tTraining Loss: 0.8514 \tValidation Loss: 0.4746\n",
            "\t\tTraining Accuracy: 60.00%\t Validation Accuracy: 100.00%\n",
            "\n",
            "Epoch: 61 \tTraining Loss: 0.7571 \tValidation Loss: 0.4687\n",
            "\t\tTraining Accuracy: 80.00%\t Validation Accuracy: 100.00%\n",
            "\n",
            "Epoch: 62 \tTraining Loss: 0.7226 \tValidation Loss: 0.4637\n",
            "\t\tTraining Accuracy: 60.00%\t Validation Accuracy: 100.00%\n",
            "\n",
            "Epoch: 63 \tTraining Loss: 0.5408 \tValidation Loss: 0.4572\n",
            "\t\tTraining Accuracy: 80.00%\t Validation Accuracy: 100.00%\n",
            "\n",
            "Epoch: 64 \tTraining Loss: 0.6062 \tValidation Loss: 0.4507\n",
            "\t\tTraining Accuracy: 80.00%\t Validation Accuracy: 100.00%\n",
            "\n",
            "Epoch: 65 \tTraining Loss: 0.6599 \tValidation Loss: 0.4454\n",
            "\t\tTraining Accuracy: 80.00%\t Validation Accuracy: 100.00%\n",
            "\n",
            "Epoch: 66 \tTraining Loss: 0.7134 \tValidation Loss: 0.4395\n",
            "\t\tTraining Accuracy: 60.00%\t Validation Accuracy: 100.00%\n",
            "\n",
            "Epoch: 67 \tTraining Loss: 0.5054 \tValidation Loss: 0.4346\n",
            "\t\tTraining Accuracy: 60.00%\t Validation Accuracy: 100.00%\n",
            "\n",
            "Epoch: 68 \tTraining Loss: 0.5696 \tValidation Loss: 0.4308\n",
            "\t\tTraining Accuracy: 60.00%\t Validation Accuracy: 100.00%\n",
            "\n",
            "Epoch: 69 \tTraining Loss: 0.3838 \tValidation Loss: 0.4260\n",
            "\t\tTraining Accuracy: 80.00%\t Validation Accuracy: 100.00%\n",
            "\n",
            "Epoch: 70 \tTraining Loss: 0.7100 \tValidation Loss: 0.4209\n",
            "\t\tTraining Accuracy: 80.00%\t Validation Accuracy: 100.00%\n",
            "\n",
            "Epoch: 71 \tTraining Loss: 0.7181 \tValidation Loss: 0.4150\n",
            "\t\tTraining Accuracy: 40.00%\t Validation Accuracy: 100.00%\n",
            "\n",
            "Epoch: 72 \tTraining Loss: 0.6826 \tValidation Loss: 0.4092\n",
            "\t\tTraining Accuracy: 60.00%\t Validation Accuracy: 100.00%\n",
            "\n",
            "Epoch: 73 \tTraining Loss: 0.3796 \tValidation Loss: 0.4032\n",
            "\t\tTraining Accuracy: 100.00%\t Validation Accuracy: 100.00%\n",
            "\n",
            "Epoch: 74 \tTraining Loss: 0.2730 \tValidation Loss: 0.3965\n",
            "\t\tTraining Accuracy: 100.00%\t Validation Accuracy: 100.00%\n",
            "\n",
            "Epoch: 75 \tTraining Loss: 0.5879 \tValidation Loss: 0.3900\n",
            "\t\tTraining Accuracy: 80.00%\t Validation Accuracy: 100.00%\n",
            "\n",
            "Epoch: 76 \tTraining Loss: 0.5160 \tValidation Loss: 0.3831\n",
            "\t\tTraining Accuracy: 80.00%\t Validation Accuracy: 100.00%\n",
            "\n",
            "Epoch: 77 \tTraining Loss: 0.7538 \tValidation Loss: 0.3775\n",
            "\t\tTraining Accuracy: 60.00%\t Validation Accuracy: 100.00%\n",
            "\n",
            "Epoch: 78 \tTraining Loss: 0.8289 \tValidation Loss: 0.3723\n",
            "\t\tTraining Accuracy: 80.00%\t Validation Accuracy: 100.00%\n",
            "\n",
            "Epoch: 79 \tTraining Loss: 0.3933 \tValidation Loss: 0.3669\n",
            "\t\tTraining Accuracy: 100.00%\t Validation Accuracy: 100.00%\n",
            "\n",
            "Epoch: 80 \tTraining Loss: 0.5994 \tValidation Loss: 0.3624\n",
            "\t\tTraining Accuracy: 40.00%\t Validation Accuracy: 100.00%\n",
            "\n",
            "Epoch: 81 \tTraining Loss: 0.4161 \tValidation Loss: 0.3574\n",
            "\t\tTraining Accuracy: 100.00%\t Validation Accuracy: 100.00%\n",
            "\n",
            "Epoch: 82 \tTraining Loss: 0.5414 \tValidation Loss: 0.3517\n",
            "\t\tTraining Accuracy: 80.00%\t Validation Accuracy: 100.00%\n",
            "\n",
            "Epoch: 83 \tTraining Loss: 0.4795 \tValidation Loss: 0.3475\n",
            "\t\tTraining Accuracy: 100.00%\t Validation Accuracy: 100.00%\n",
            "\n",
            "Epoch: 84 \tTraining Loss: 1.0371 \tValidation Loss: 0.3440\n",
            "\t\tTraining Accuracy: 20.00%\t Validation Accuracy: 100.00%\n",
            "\n",
            "Epoch: 85 \tTraining Loss: 0.4481 \tValidation Loss: 0.3402\n",
            "\t\tTraining Accuracy: 80.00%\t Validation Accuracy: 100.00%\n",
            "\n",
            "Epoch: 86 \tTraining Loss: 0.6337 \tValidation Loss: 0.3358\n",
            "\t\tTraining Accuracy: 100.00%\t Validation Accuracy: 100.00%\n",
            "\n",
            "Epoch: 87 \tTraining Loss: 0.6303 \tValidation Loss: 0.3312\n",
            "\t\tTraining Accuracy: 80.00%\t Validation Accuracy: 100.00%\n",
            "\n",
            "Epoch: 88 \tTraining Loss: 0.8242 \tValidation Loss: 0.3283\n",
            "\t\tTraining Accuracy: 40.00%\t Validation Accuracy: 100.00%\n",
            "\n",
            "Epoch: 89 \tTraining Loss: 0.2856 \tValidation Loss: 0.3252\n",
            "\t\tTraining Accuracy: 80.00%\t Validation Accuracy: 100.00%\n",
            "\n",
            "Epoch: 90 \tTraining Loss: 0.7100 \tValidation Loss: 0.3221\n",
            "\t\tTraining Accuracy: 60.00%\t Validation Accuracy: 100.00%\n",
            "\n",
            "Epoch: 91 \tTraining Loss: 0.4254 \tValidation Loss: 0.3184\n",
            "\t\tTraining Accuracy: 80.00%\t Validation Accuracy: 100.00%\n",
            "\n",
            "Epoch: 92 \tTraining Loss: 0.3113 \tValidation Loss: 0.3136\n",
            "\t\tTraining Accuracy: 100.00%\t Validation Accuracy: 100.00%\n",
            "\n",
            "Epoch: 93 \tTraining Loss: 0.4287 \tValidation Loss: 0.3083\n",
            "\t\tTraining Accuracy: 80.00%\t Validation Accuracy: 100.00%\n",
            "\n",
            "Epoch: 94 \tTraining Loss: 0.2823 \tValidation Loss: 0.3029\n",
            "\t\tTraining Accuracy: 100.00%\t Validation Accuracy: 100.00%\n",
            "\n",
            "Epoch: 95 \tTraining Loss: 0.2492 \tValidation Loss: 0.2982\n",
            "\t\tTraining Accuracy: 100.00%\t Validation Accuracy: 100.00%\n",
            "\n",
            "Epoch: 96 \tTraining Loss: 0.7227 \tValidation Loss: 0.2949\n",
            "\t\tTraining Accuracy: 60.00%\t Validation Accuracy: 100.00%\n",
            "\n",
            "Epoch: 97 \tTraining Loss: 0.4999 \tValidation Loss: 0.2910\n",
            "\t\tTraining Accuracy: 80.00%\t Validation Accuracy: 100.00%\n",
            "\n",
            "Epoch: 98 \tTraining Loss: 0.6811 \tValidation Loss: 0.2880\n",
            "\t\tTraining Accuracy: 60.00%\t Validation Accuracy: 100.00%\n",
            "\n",
            "Epoch: 99 \tTraining Loss: 0.5085 \tValidation Loss: 0.2860\n",
            "\t\tTraining Accuracy: 60.00%\t Validation Accuracy: 100.00%\n",
            "\n",
            "Epoch: 100 \tTraining Loss: 0.2688 \tValidation Loss: 0.2832\n",
            "\t\tTraining Accuracy: 100.00%\t Validation Accuracy: 100.00%\n",
            "\n",
            "Epoch: 101 \tTraining Loss: 0.7322 \tValidation Loss: 0.2805\n",
            "\t\tTraining Accuracy: 60.00%\t Validation Accuracy: 100.00%\n",
            "\n",
            "Epoch: 102 \tTraining Loss: 0.3316 \tValidation Loss: 0.2776\n",
            "\t\tTraining Accuracy: 100.00%\t Validation Accuracy: 100.00%\n",
            "\n",
            "Epoch: 103 \tTraining Loss: 0.6438 \tValidation Loss: 0.2743\n",
            "\t\tTraining Accuracy: 60.00%\t Validation Accuracy: 100.00%\n",
            "\n",
            "Epoch: 104 \tTraining Loss: 0.4790 \tValidation Loss: 0.2711\n",
            "\t\tTraining Accuracy: 60.00%\t Validation Accuracy: 100.00%\n",
            "\n",
            "Epoch: 105 \tTraining Loss: 0.7589 \tValidation Loss: 0.2678\n",
            "\t\tTraining Accuracy: 40.00%\t Validation Accuracy: 100.00%\n",
            "\n",
            "Epoch: 106 \tTraining Loss: 0.6222 \tValidation Loss: 0.2650\n",
            "\t\tTraining Accuracy: 40.00%\t Validation Accuracy: 100.00%\n",
            "\n",
            "Epoch: 107 \tTraining Loss: 0.7081 \tValidation Loss: 0.2629\n",
            "\t\tTraining Accuracy: 80.00%\t Validation Accuracy: 100.00%\n",
            "\n",
            "Epoch: 108 \tTraining Loss: 0.2461 \tValidation Loss: 0.2596\n",
            "\t\tTraining Accuracy: 100.00%\t Validation Accuracy: 100.00%\n",
            "\n",
            "Epoch: 109 \tTraining Loss: 0.4343 \tValidation Loss: 0.2571\n",
            "\t\tTraining Accuracy: 80.00%\t Validation Accuracy: 100.00%\n",
            "\n",
            "Epoch: 110 \tTraining Loss: 0.8554 \tValidation Loss: 0.2550\n",
            "\t\tTraining Accuracy: 20.00%\t Validation Accuracy: 100.00%\n",
            "\n",
            "Epoch: 111 \tTraining Loss: 0.7657 \tValidation Loss: 0.2548\n",
            "\t\tTraining Accuracy: 40.00%\t Validation Accuracy: 100.00%\n",
            "\n",
            "Epoch: 112 \tTraining Loss: 0.4588 \tValidation Loss: 0.2540\n",
            "\t\tTraining Accuracy: 60.00%\t Validation Accuracy: 100.00%\n",
            "\n",
            "Epoch: 113 \tTraining Loss: 0.5171 \tValidation Loss: 0.2522\n",
            "\t\tTraining Accuracy: 80.00%\t Validation Accuracy: 100.00%\n",
            "\n",
            "Epoch: 114 \tTraining Loss: 0.4629 \tValidation Loss: 0.2494\n",
            "\t\tTraining Accuracy: 80.00%\t Validation Accuracy: 100.00%\n",
            "\n",
            "Epoch: 115 \tTraining Loss: 0.3756 \tValidation Loss: 0.2461\n",
            "\t\tTraining Accuracy: 80.00%\t Validation Accuracy: 100.00%\n",
            "\n",
            "Epoch: 116 \tTraining Loss: 0.7777 \tValidation Loss: 0.2436\n",
            "\t\tTraining Accuracy: 40.00%\t Validation Accuracy: 100.00%\n",
            "\n",
            "Epoch: 117 \tTraining Loss: 0.1998 \tValidation Loss: 0.2424\n",
            "\t\tTraining Accuracy: 100.00%\t Validation Accuracy: 100.00%\n",
            "\n",
            "Epoch: 118 \tTraining Loss: 0.4702 \tValidation Loss: 0.2420\n",
            "\t\tTraining Accuracy: 80.00%\t Validation Accuracy: 100.00%\n",
            "\n",
            "Epoch: 119 \tTraining Loss: 0.7841 \tValidation Loss: 0.2416\n",
            "\t\tTraining Accuracy: 60.00%\t Validation Accuracy: 100.00%\n",
            "\n",
            "Epoch: 120 \tTraining Loss: 0.3284 \tValidation Loss: 0.2397\n",
            "\t\tTraining Accuracy: 100.00%\t Validation Accuracy: 100.00%\n",
            "\n",
            "Epoch: 121 \tTraining Loss: 0.3027 \tValidation Loss: 0.2367\n",
            "\t\tTraining Accuracy: 80.00%\t Validation Accuracy: 100.00%\n",
            "\n",
            "Epoch: 122 \tTraining Loss: 0.5178 \tValidation Loss: 0.2331\n",
            "\t\tTraining Accuracy: 80.00%\t Validation Accuracy: 100.00%\n",
            "\n",
            "Epoch: 123 \tTraining Loss: 0.2211 \tValidation Loss: 0.2291\n",
            "\t\tTraining Accuracy: 100.00%\t Validation Accuracy: 100.00%\n",
            "\n",
            "Epoch: 124 \tTraining Loss: 0.4106 \tValidation Loss: 0.2251\n",
            "\t\tTraining Accuracy: 80.00%\t Validation Accuracy: 100.00%\n",
            "\n",
            "Epoch: 125 \tTraining Loss: 0.4097 \tValidation Loss: 0.2216\n",
            "\t\tTraining Accuracy: 60.00%\t Validation Accuracy: 100.00%\n",
            "\n",
            "Epoch: 126 \tTraining Loss: 0.3416 \tValidation Loss: 0.2179\n",
            "\t\tTraining Accuracy: 100.00%\t Validation Accuracy: 100.00%\n",
            "\n",
            "Epoch: 127 \tTraining Loss: 0.3429 \tValidation Loss: 0.2145\n",
            "\t\tTraining Accuracy: 100.00%\t Validation Accuracy: 100.00%\n",
            "\n",
            "Epoch: 128 \tTraining Loss: 0.5670 \tValidation Loss: 0.2112\n",
            "\t\tTraining Accuracy: 60.00%\t Validation Accuracy: 100.00%\n",
            "\n",
            "Epoch: 129 \tTraining Loss: 0.9260 \tValidation Loss: 0.2090\n",
            "\t\tTraining Accuracy: 40.00%\t Validation Accuracy: 100.00%\n",
            "\n",
            "Epoch: 130 \tTraining Loss: 0.4228 \tValidation Loss: 0.2064\n",
            "\t\tTraining Accuracy: 100.00%\t Validation Accuracy: 100.00%\n",
            "\n",
            "Epoch: 131 \tTraining Loss: 0.6940 \tValidation Loss: 0.2046\n",
            "\t\tTraining Accuracy: 60.00%\t Validation Accuracy: 100.00%\n",
            "\n",
            "Epoch: 132 \tTraining Loss: 0.3084 \tValidation Loss: 0.2026\n",
            "\t\tTraining Accuracy: 100.00%\t Validation Accuracy: 100.00%\n",
            "\n",
            "Epoch: 133 \tTraining Loss: 0.5818 \tValidation Loss: 0.2002\n",
            "\t\tTraining Accuracy: 80.00%\t Validation Accuracy: 100.00%\n",
            "\n",
            "Epoch: 134 \tTraining Loss: 0.6458 \tValidation Loss: 0.1982\n",
            "\t\tTraining Accuracy: 80.00%\t Validation Accuracy: 100.00%\n",
            "\n",
            "Epoch: 135 \tTraining Loss: 0.7080 \tValidation Loss: 0.1951\n",
            "\t\tTraining Accuracy: 60.00%\t Validation Accuracy: 100.00%\n",
            "\n",
            "Epoch: 136 \tTraining Loss: 0.7109 \tValidation Loss: 0.1931\n",
            "\t\tTraining Accuracy: 60.00%\t Validation Accuracy: 100.00%\n",
            "\n",
            "Epoch: 137 \tTraining Loss: 0.2663 \tValidation Loss: 0.1908\n",
            "\t\tTraining Accuracy: 100.00%\t Validation Accuracy: 100.00%\n",
            "\n",
            "Epoch: 138 \tTraining Loss: 0.6996 \tValidation Loss: 0.1879\n",
            "\t\tTraining Accuracy: 60.00%\t Validation Accuracy: 100.00%\n",
            "\n",
            "Epoch: 139 \tTraining Loss: 0.5196 \tValidation Loss: 0.1865\n",
            "\t\tTraining Accuracy: 60.00%\t Validation Accuracy: 100.00%\n",
            "\n",
            "Epoch: 140 \tTraining Loss: 0.1578 \tValidation Loss: 0.1847\n",
            "\t\tTraining Accuracy: 100.00%\t Validation Accuracy: 100.00%\n",
            "\n",
            "Epoch: 141 \tTraining Loss: 0.7083 \tValidation Loss: 0.1824\n",
            "\t\tTraining Accuracy: 60.00%\t Validation Accuracy: 100.00%\n",
            "\n",
            "Epoch: 142 \tTraining Loss: 0.4856 \tValidation Loss: 0.1815\n",
            "\t\tTraining Accuracy: 60.00%\t Validation Accuracy: 100.00%\n",
            "\n",
            "Epoch: 143 \tTraining Loss: 0.4361 \tValidation Loss: 0.1801\n",
            "\t\tTraining Accuracy: 80.00%\t Validation Accuracy: 100.00%\n",
            "\n",
            "Epoch: 144 \tTraining Loss: 0.4697 \tValidation Loss: 0.1780\n",
            "\t\tTraining Accuracy: 80.00%\t Validation Accuracy: 100.00%\n",
            "\n",
            "Epoch: 145 \tTraining Loss: 0.6464 \tValidation Loss: 0.1761\n",
            "\t\tTraining Accuracy: 60.00%\t Validation Accuracy: 100.00%\n",
            "\n",
            "Epoch: 146 \tTraining Loss: 0.4505 \tValidation Loss: 0.1739\n",
            "\t\tTraining Accuracy: 80.00%\t Validation Accuracy: 100.00%\n",
            "\n",
            "Epoch: 147 \tTraining Loss: 0.4748 \tValidation Loss: 0.1717\n",
            "\t\tTraining Accuracy: 100.00%\t Validation Accuracy: 100.00%\n",
            "\n",
            "Epoch: 148 \tTraining Loss: 0.4247 \tValidation Loss: 0.1695\n",
            "\t\tTraining Accuracy: 100.00%\t Validation Accuracy: 100.00%\n",
            "\n",
            "Epoch: 149 \tTraining Loss: 0.4080 \tValidation Loss: 0.1673\n",
            "\t\tTraining Accuracy: 60.00%\t Validation Accuracy: 100.00%\n",
            "\n",
            "Epoch: 150 \tTraining Loss: 0.8835 \tValidation Loss: 0.1665\n",
            "\t\tTraining Accuracy: 60.00%\t Validation Accuracy: 100.00%\n",
            "\n",
            "Epoch: 151 \tTraining Loss: 0.4185 \tValidation Loss: 0.1659\n",
            "\t\tTraining Accuracy: 80.00%\t Validation Accuracy: 100.00%\n",
            "\n",
            "Epoch: 152 \tTraining Loss: 0.4323 \tValidation Loss: 0.1652\n",
            "\t\tTraining Accuracy: 60.00%\t Validation Accuracy: 100.00%\n",
            "\n",
            "Epoch: 153 \tTraining Loss: 0.7476 \tValidation Loss: 0.1645\n",
            "\t\tTraining Accuracy: 60.00%\t Validation Accuracy: 100.00%\n",
            "\n",
            "Epoch: 154 \tTraining Loss: 0.3723 \tValidation Loss: 0.1630\n",
            "\t\tTraining Accuracy: 80.00%\t Validation Accuracy: 100.00%\n",
            "\n",
            "Epoch: 155 \tTraining Loss: 0.6964 \tValidation Loss: 0.1622\n",
            "\t\tTraining Accuracy: 80.00%\t Validation Accuracy: 100.00%\n",
            "\n",
            "Epoch: 156 \tTraining Loss: 0.6030 \tValidation Loss: 0.1615\n",
            "\t\tTraining Accuracy: 80.00%\t Validation Accuracy: 100.00%\n",
            "\n",
            "Epoch: 157 \tTraining Loss: 0.3446 \tValidation Loss: 0.1603\n",
            "\t\tTraining Accuracy: 80.00%\t Validation Accuracy: 100.00%\n",
            "\n",
            "Epoch: 158 \tTraining Loss: 0.3234 \tValidation Loss: 0.1583\n",
            "\t\tTraining Accuracy: 100.00%\t Validation Accuracy: 100.00%\n",
            "\n",
            "Epoch: 159 \tTraining Loss: 0.8675 \tValidation Loss: 0.1564\n",
            "\t\tTraining Accuracy: 60.00%\t Validation Accuracy: 100.00%\n",
            "\n",
            "Epoch: 160 \tTraining Loss: 0.1470 \tValidation Loss: 0.1542\n",
            "\t\tTraining Accuracy: 100.00%\t Validation Accuracy: 100.00%\n",
            "\n",
            "Epoch: 161 \tTraining Loss: 0.5465 \tValidation Loss: 0.1524\n",
            "\t\tTraining Accuracy: 60.00%\t Validation Accuracy: 100.00%\n",
            "\n",
            "Epoch: 162 \tTraining Loss: 0.6025 \tValidation Loss: 0.1505\n",
            "\t\tTraining Accuracy: 80.00%\t Validation Accuracy: 100.00%\n",
            "\n",
            "Epoch: 163 \tTraining Loss: 0.2212 \tValidation Loss: 0.1484\n",
            "\t\tTraining Accuracy: 100.00%\t Validation Accuracy: 100.00%\n",
            "\n",
            "Epoch: 164 \tTraining Loss: 0.4078 \tValidation Loss: 0.1481\n",
            "\t\tTraining Accuracy: 80.00%\t Validation Accuracy: 100.00%\n",
            "\n",
            "Epoch: 165 \tTraining Loss: 0.7164 \tValidation Loss: 0.1482\n",
            "\t\tTraining Accuracy: 80.00%\t Validation Accuracy: 100.00%\n",
            "\n",
            "Epoch: 166 \tTraining Loss: 0.3392 \tValidation Loss: 0.1482\n",
            "\t\tTraining Accuracy: 100.00%\t Validation Accuracy: 100.00%\n",
            "\n",
            "Epoch: 167 \tTraining Loss: 0.6122 \tValidation Loss: 0.1476\n",
            "\t\tTraining Accuracy: 60.00%\t Validation Accuracy: 100.00%\n",
            "\n",
            "Epoch: 168 \tTraining Loss: 0.9875 \tValidation Loss: 0.1475\n",
            "\t\tTraining Accuracy: 40.00%\t Validation Accuracy: 100.00%\n",
            "\n",
            "Epoch: 169 \tTraining Loss: 0.4733 \tValidation Loss: 0.1466\n",
            "\t\tTraining Accuracy: 80.00%\t Validation Accuracy: 100.00%\n",
            "\n",
            "Epoch: 170 \tTraining Loss: 0.4080 \tValidation Loss: 0.1447\n",
            "\t\tTraining Accuracy: 80.00%\t Validation Accuracy: 100.00%\n",
            "\n",
            "Epoch: 171 \tTraining Loss: 0.1379 \tValidation Loss: 0.1421\n",
            "\t\tTraining Accuracy: 100.00%\t Validation Accuracy: 100.00%\n",
            "\n",
            "Epoch: 172 \tTraining Loss: 0.1312 \tValidation Loss: 0.1398\n",
            "\t\tTraining Accuracy: 100.00%\t Validation Accuracy: 100.00%\n",
            "\n",
            "Epoch: 173 \tTraining Loss: 0.7095 \tValidation Loss: 0.1376\n",
            "\t\tTraining Accuracy: 80.00%\t Validation Accuracy: 100.00%\n",
            "\n",
            "Epoch: 174 \tTraining Loss: 0.4745 \tValidation Loss: 0.1358\n",
            "\t\tTraining Accuracy: 80.00%\t Validation Accuracy: 100.00%\n",
            "\n",
            "Epoch: 175 \tTraining Loss: 0.2994 \tValidation Loss: 0.1345\n",
            "\t\tTraining Accuracy: 100.00%\t Validation Accuracy: 100.00%\n",
            "\n",
            "Epoch: 176 \tTraining Loss: 0.5834 \tValidation Loss: 0.1328\n",
            "\t\tTraining Accuracy: 80.00%\t Validation Accuracy: 100.00%\n",
            "\n",
            "Epoch: 177 \tTraining Loss: 0.7812 \tValidation Loss: 0.1311\n",
            "\t\tTraining Accuracy: 40.00%\t Validation Accuracy: 100.00%\n",
            "\n",
            "Epoch: 178 \tTraining Loss: 0.3455 \tValidation Loss: 0.1294\n",
            "\t\tTraining Accuracy: 80.00%\t Validation Accuracy: 100.00%\n",
            "\n",
            "Epoch: 179 \tTraining Loss: 0.4479 \tValidation Loss: 0.1285\n",
            "\t\tTraining Accuracy: 80.00%\t Validation Accuracy: 100.00%\n",
            "\n",
            "Epoch: 180 \tTraining Loss: 0.4086 \tValidation Loss: 0.1271\n",
            "\t\tTraining Accuracy: 80.00%\t Validation Accuracy: 100.00%\n",
            "\n",
            "Epoch: 181 \tTraining Loss: 0.4691 \tValidation Loss: 0.1254\n",
            "\t\tTraining Accuracy: 80.00%\t Validation Accuracy: 100.00%\n",
            "\n",
            "Epoch: 182 \tTraining Loss: 0.1012 \tValidation Loss: 0.1234\n",
            "\t\tTraining Accuracy: 100.00%\t Validation Accuracy: 100.00%\n",
            "\n",
            "Epoch: 183 \tTraining Loss: 0.4226 \tValidation Loss: 0.1215\n",
            "\t\tTraining Accuracy: 80.00%\t Validation Accuracy: 100.00%\n",
            "\n",
            "Epoch: 184 \tTraining Loss: 0.2484 \tValidation Loss: 0.1202\n",
            "\t\tTraining Accuracy: 80.00%\t Validation Accuracy: 100.00%\n",
            "\n",
            "Epoch: 185 \tTraining Loss: 0.3345 \tValidation Loss: 0.1191\n",
            "\t\tTraining Accuracy: 100.00%\t Validation Accuracy: 100.00%\n",
            "\n",
            "Epoch: 186 \tTraining Loss: 0.5259 \tValidation Loss: 0.1191\n",
            "\t\tTraining Accuracy: 60.00%\t Validation Accuracy: 100.00%\n",
            "\n",
            "Epoch: 187 \tTraining Loss: 0.2446 \tValidation Loss: 0.1186\n",
            "\t\tTraining Accuracy: 100.00%\t Validation Accuracy: 100.00%\n",
            "\n",
            "Epoch: 188 \tTraining Loss: 0.2982 \tValidation Loss: 0.1176\n",
            "\t\tTraining Accuracy: 80.00%\t Validation Accuracy: 100.00%\n",
            "\n",
            "Epoch: 189 \tTraining Loss: 0.2832 \tValidation Loss: 0.1163\n",
            "\t\tTraining Accuracy: 100.00%\t Validation Accuracy: 100.00%\n",
            "\n",
            "Epoch: 190 \tTraining Loss: 0.5195 \tValidation Loss: 0.1156\n",
            "\t\tTraining Accuracy: 60.00%\t Validation Accuracy: 100.00%\n",
            "\n",
            "Epoch: 191 \tTraining Loss: 0.4234 \tValidation Loss: 0.1149\n",
            "\t\tTraining Accuracy: 80.00%\t Validation Accuracy: 100.00%\n",
            "\n",
            "Epoch: 192 \tTraining Loss: 0.1048 \tValidation Loss: 0.1138\n",
            "\t\tTraining Accuracy: 100.00%\t Validation Accuracy: 100.00%\n",
            "\n",
            "Epoch: 193 \tTraining Loss: 0.3056 \tValidation Loss: 0.1125\n",
            "\t\tTraining Accuracy: 100.00%\t Validation Accuracy: 100.00%\n",
            "\n",
            "Epoch: 194 \tTraining Loss: 0.3856 \tValidation Loss: 0.1107\n",
            "\t\tTraining Accuracy: 80.00%\t Validation Accuracy: 100.00%\n",
            "\n",
            "Epoch: 195 \tTraining Loss: 0.5370 \tValidation Loss: 0.1089\n",
            "\t\tTraining Accuracy: 80.00%\t Validation Accuracy: 100.00%\n",
            "\n",
            "Epoch: 196 \tTraining Loss: 0.4347 \tValidation Loss: 0.1077\n",
            "\t\tTraining Accuracy: 80.00%\t Validation Accuracy: 100.00%\n",
            "\n",
            "Epoch: 197 \tTraining Loss: 0.6440 \tValidation Loss: 0.1067\n",
            "\t\tTraining Accuracy: 80.00%\t Validation Accuracy: 100.00%\n",
            "\n",
            "Epoch: 198 \tTraining Loss: 0.6692 \tValidation Loss: 0.1056\n",
            "\t\tTraining Accuracy: 60.00%\t Validation Accuracy: 100.00%\n",
            "\n",
            "Epoch: 199 \tTraining Loss: 0.1453 \tValidation Loss: 0.1042\n",
            "\t\tTraining Accuracy: 100.00%\t Validation Accuracy: 100.00%\n",
            "\n",
            "Epoch: 200 \tTraining Loss: 0.1829 \tValidation Loss: 0.1023\n",
            "\t\tTraining Accuracy: 100.00%\t Validation Accuracy: 100.00%\n",
            "\n",
            "Epoch: 201 \tTraining Loss: 0.2139 \tValidation Loss: 0.1006\n",
            "\t\tTraining Accuracy: 80.00%\t Validation Accuracy: 100.00%\n",
            "\n",
            "Epoch: 202 \tTraining Loss: 0.4495 \tValidation Loss: 0.0993\n",
            "\t\tTraining Accuracy: 80.00%\t Validation Accuracy: 100.00%\n",
            "\n",
            "Epoch: 203 \tTraining Loss: 0.4699 \tValidation Loss: 0.0987\n",
            "\t\tTraining Accuracy: 80.00%\t Validation Accuracy: 100.00%\n",
            "\n",
            "Epoch: 204 \tTraining Loss: 0.2542 \tValidation Loss: 0.0977\n",
            "\t\tTraining Accuracy: 100.00%\t Validation Accuracy: 100.00%\n",
            "\n",
            "Epoch: 205 \tTraining Loss: 0.3795 \tValidation Loss: 0.0968\n",
            "\t\tTraining Accuracy: 80.00%\t Validation Accuracy: 100.00%\n",
            "\n",
            "Epoch: 206 \tTraining Loss: 0.5974 \tValidation Loss: 0.0960\n",
            "\t\tTraining Accuracy: 80.00%\t Validation Accuracy: 100.00%\n",
            "\n",
            "Epoch: 207 \tTraining Loss: 0.5953 \tValidation Loss: 0.0947\n",
            "\t\tTraining Accuracy: 60.00%\t Validation Accuracy: 100.00%\n",
            "\n",
            "Epoch: 208 \tTraining Loss: 0.2854 \tValidation Loss: 0.0934\n",
            "\t\tTraining Accuracy: 100.00%\t Validation Accuracy: 100.00%\n",
            "\n",
            "Epoch: 209 \tTraining Loss: 0.2913 \tValidation Loss: 0.0921\n",
            "\t\tTraining Accuracy: 80.00%\t Validation Accuracy: 100.00%\n",
            "\n",
            "Epoch: 210 \tTraining Loss: 0.0683 \tValidation Loss: 0.0910\n",
            "\t\tTraining Accuracy: 100.00%\t Validation Accuracy: 100.00%\n",
            "\n",
            "Epoch: 211 \tTraining Loss: 0.3523 \tValidation Loss: 0.0902\n",
            "\t\tTraining Accuracy: 80.00%\t Validation Accuracy: 100.00%\n",
            "\n",
            "Epoch: 212 \tTraining Loss: 0.3327 \tValidation Loss: 0.0892\n",
            "\t\tTraining Accuracy: 80.00%\t Validation Accuracy: 100.00%\n",
            "\n",
            "Epoch: 213 \tTraining Loss: 1.0664 \tValidation Loss: 0.0893\n",
            "\t\tTraining Accuracy: 40.00%\t Validation Accuracy: 100.00%\n",
            "\n",
            "Epoch: 214 \tTraining Loss: 0.9526 \tValidation Loss: 0.0899\n",
            "\t\tTraining Accuracy: 60.00%\t Validation Accuracy: 100.00%\n",
            "\n",
            "Epoch: 215 \tTraining Loss: 0.5527 \tValidation Loss: 0.0911\n",
            "\t\tTraining Accuracy: 80.00%\t Validation Accuracy: 100.00%\n",
            "\n",
            "Early Stopping! Total epochs: 215. Best epoch: 212 with loss: 0.09 and acc: 100.00%\n",
            "262.17 total seconds elapsed. 1.21 seconds per epoch.\n"
          ]
        }
      ]
    },
    {
      "cell_type": "markdown",
      "metadata": {
        "id": "n5oRuk5hSEYx"
      },
      "source": [
        "Check the losses and accuracy during the training."
      ]
    },
    {
      "cell_type": "code",
      "metadata": {
        "id": "-yJuZ4W2SD1W",
        "colab": {
          "base_uri": "https://localhost:8080/",
          "height": 581
        },
        "outputId": "770efce8-183b-461a-bf9f-c28c5cf75703"
      },
      "source": [
        "plt.figure(figsize=(8, 6))\n",
        "for c in ['train_loss', 'valid_loss']:\n",
        "    plt.plot(\n",
        "        history[c], label=c)\n",
        "plt.legend()\n",
        "plt.xlabel('Epoch')\n",
        "plt.ylabel('Average Negative Log Likelihood')\n",
        "plt.title('Training and Validation Losses')\n",
        "plt.show()"
      ],
      "execution_count": null,
      "outputs": [
        {
          "output_type": "execute_result",
          "data": {
            "text/plain": [
              "<Figure size 800x600 with 0 Axes>"
            ]
          },
          "metadata": {},
          "execution_count": 70
        },
        {
          "output_type": "execute_result",
          "data": {
            "text/plain": [
              "[<matplotlib.lines.Line2D at 0x7fc796bb9220>]"
            ]
          },
          "metadata": {},
          "execution_count": 70
        },
        {
          "output_type": "execute_result",
          "data": {
            "text/plain": [
              "[<matplotlib.lines.Line2D at 0x7fc796bb96d0>]"
            ]
          },
          "metadata": {},
          "execution_count": 70
        },
        {
          "output_type": "execute_result",
          "data": {
            "text/plain": [
              "<matplotlib.legend.Legend at 0x7fc795507b50>"
            ]
          },
          "metadata": {},
          "execution_count": 70
        },
        {
          "output_type": "execute_result",
          "data": {
            "text/plain": [
              "Text(0.5, 0, 'Epoch')"
            ]
          },
          "metadata": {},
          "execution_count": 70
        },
        {
          "output_type": "execute_result",
          "data": {
            "text/plain": [
              "Text(0, 0.5, 'Average Negative Log Likelihood')"
            ]
          },
          "metadata": {},
          "execution_count": 70
        },
        {
          "output_type": "execute_result",
          "data": {
            "text/plain": [
              "Text(0.5, 1.0, 'Training and Validation Losses')"
            ]
          },
          "metadata": {},
          "execution_count": 70
        },
        {
          "output_type": "display_data",
          "data": {
            "text/plain": [
              "<Figure size 800x600 with 1 Axes>"
            ],
            "image/png": "[encoded data removed]"
          },
          "metadata": {}
        }
      ]
    },
    {
      "cell_type": "code",
      "metadata": {
        "id": "nT_VflxLSPca",
        "colab": {
          "base_uri": "https://localhost:8080/",
          "height": 581
        },
        "outputId": "b6ef64b0-200d-4553-935c-8ac5ec25378f"
      },
      "source": [
        "plt.figure(figsize=(8, 6))\n",
        "for c in ['train_acc', 'valid_acc']:\n",
        "    plt.plot(\n",
        "        100 * history[c], label=c)\n",
        "plt.legend()\n",
        "plt.xlabel('Epoch')\n",
        "plt.ylabel('Average Accuracy')\n",
        "plt.title('Training and Validation Accuracy')\n",
        "plt.show()"
      ],
      "execution_count": null,
      "outputs": [
        {
          "output_type": "execute_result",
          "data": {
            "text/plain": [
              "<Figure size 800x600 with 0 Axes>"
            ]
          },
          "metadata": {},
          "execution_count": 71
        },
        {
          "output_type": "execute_result",
          "data": {
            "text/plain": [
              "[<matplotlib.lines.Line2D at 0x7fc796ac2e80>]"
            ]
          },
          "metadata": {},
          "execution_count": 71
        },
        {
          "output_type": "execute_result",
          "data": {
            "text/plain": [
              "[<matplotlib.lines.Line2D at 0x7fc796a52220>]"
            ]
          },
          "metadata": {},
          "execution_count": 71
        },
        {
          "output_type": "execute_result",
          "data": {
            "text/plain": [
              "<matplotlib.legend.Legend at 0x7fc796b56c70>"
            ]
          },
          "metadata": {},
          "execution_count": 71
        },
        {
          "output_type": "execute_result",
          "data": {
            "text/plain": [
              "Text(0.5, 0, 'Epoch')"
            ]
          },
          "metadata": {},
          "execution_count": 71
        },
        {
          "output_type": "execute_result",
          "data": {
            "text/plain": [
              "Text(0, 0.5, 'Average Accuracy')"
            ]
          },
          "metadata": {},
          "execution_count": 71
        },
        {
          "output_type": "execute_result",
          "data": {
            "text/plain": [
              "Text(0.5, 1.0, 'Training and Validation Accuracy')"
            ]
          },
          "metadata": {},
          "execution_count": 71
        },
        {
          "output_type": "display_data",
          "data": {
            "text/plain": [
              "<Figure size 800x600 with 1 Axes>"
            ],
            "image/png": "[encoded data removed]"
          },
          "metadata": {}
        }
      ]
    },
    {
      "cell_type": "markdown",
      "metadata": {
        "id": "FQyFOOa_SUZB"
      },
      "source": [
        "### Train a Network With Cifar-10 Data\n",
        "Use the Cifar-10 dataset to train the model. "
      ]
    },
    {
      "cell_type": "code",
      "metadata": {
        "colab": {
          "base_uri": "https://localhost:8080/"
        },
        "id": "fID7AMV0TZUO",
        "outputId": "ffade89c-e51e-4f18-9192-7fa106bd7945"
      },
      "source": [
        "from data_utils import load_CIFAR10\n",
        "\n",
        "def get_CIFAR10_data(num_training=49000, num_validation=1000, num_test=1000):\n",
        "    \"\"\"\n",
        "    Load the CIFAR-10 dataset from disk and perform preprocessing to prepare\n",
        "    it for the two-layer neural net classifier.   \n",
        "    \"\"\"\n",
        "    # Load the raw CIFAR-10 data\n",
        "    cifar10_dir = './datasets/'\n",
        "    \n",
        "    X_train, y_train, X_test, y_test = load_CIFAR10(cifar10_dir)\n",
        "        \n",
        "    # Subsample the data\n",
        "    mask = list(range(num_training, num_training + num_validation))\n",
        "    X_val = X_train[mask]\n",
        "    y_val = y_train[mask]\n",
        "    mask = list(range(num_training))\n",
        "    X_train = X_train[mask]\n",
        "    y_train = y_train[mask]\n",
        "    mask = list(range(num_test))\n",
        "    X_test = X_test[mask]\n",
        "    y_test = y_test[mask]\n",
        "\n",
        "    # Normalize the data: subtract the mean image\n",
        "    mean_image = np.mean(X_train, axis=0)\n",
        "    X_train -= mean_image\n",
        "    X_val -= mean_image\n",
        "    X_test -= mean_image\n",
        "\n",
        "    # Reshape data to rows\n",
        "    X_train = X_train.reshape(num_training, -1)\n",
        "    X_val = X_val.reshape(num_validation, -1)\n",
        "    X_test = X_test.reshape(num_test, -1)\n",
        "\n",
        "    return X_train, y_train, X_val, y_val, X_test, y_test\n",
        "\n",
        "\n",
        "# Cleaning up variables to prevent loading data multiple times (which may cause memory issue)\n",
        "try:\n",
        "   del X_train, y_train\n",
        "   del X_test, y_test\n",
        "   print('Clear previously loaded data.')\n",
        "except:\n",
        "   pass\n",
        "\n",
        "# Invoke the above function to get our data.\n",
        "train_X, train_Y, validation_X, validation_Y, test_X, test_Y = get_CIFAR10_data()\n",
        "print('Train data shape: ', train_X.shape)\n",
        "print('Train labels shape: ', train_Y.shape)\n",
        "print('Validation data shape: ', validation_X.shape)\n",
        "print('Validation labels shape: ', validation_Y.shape)\n",
        "print('Test data shape: ', test_X.shape)\n",
        "print('Test labels shape: ', test_Y.shape)"
      ],
      "execution_count": null,
      "outputs": [
        {
          "output_type": "stream",
          "name": "stdout",
          "text": [
            "Train data shape:  (49000, 3072)\n",
            "Train labels shape:  (49000,)\n",
            "Validation data shape:  (1000, 3072)\n",
            "Validation labels shape:  (1000,)\n",
            "Test data shape:  (1000, 3072)\n",
            "Test labels shape:  (1000,)\n"
          ]
        }
      ]
    },
    {
      "cell_type": "markdown",
      "metadata": {
        "id": "9mJ6CTNDTbXq"
      },
      "source": [
        "Since Cifar-10 has a larger size of data, which is harder to train, increase network parameters to solve. \n"
      ]
    },
    {
      "cell_type": "code",
      "metadata": {
        "id": "qTmBf_03TD2J"
      },
      "source": [
        "input_size = 32 * 32 * 3\n",
        "hidden_size = 50\n",
        "num_classes = 10\n",
        "\n",
        "model = bmodel(input_size, hidden_size, num_classes)"
      ],
      "execution_count": null,
      "outputs": []
    },
    {
      "cell_type": "code",
      "metadata": {
        "colab": {
          "base_uri": "https://localhost:8080/"
        },
        "id": "uz8yZR95UHq9",
        "outputId": "c902690e-7998-4ef1-eaad-1e4f08fcecaf"
      },
      "source": [
        "# Datasets from folders\n",
        "batch_size = 16\n",
        "# Transfer the data from numpy to tensor\n",
        "data = {\n",
        "    'train': TensorDataset(torch.from_numpy(train_X.reshape(-1, input_size)).float(), torch.from_numpy(train_Y).long()),\n",
        "    'valid': TensorDataset(torch.from_numpy(validation_X.reshape(-1, input_size)).float(), torch.from_numpy(validation_Y).long())\n",
        "}\n",
        "\n",
        "# Dataloader iterators, make sure to shuffle\n",
        "dataloaders = {\n",
        "    'train': DataLoader(data['train'], batch_size=batch_size, shuffle=True,num_workers=10),\n",
        "    'valid': DataLoader(data['valid'], batch_size=batch_size, shuffle=False, num_workers=10)\n",
        "}\n",
        "\n",
        "\n",
        "# Iterate through the dataloader once\n",
        "trainiter = iter(dataloaders['train'])\n",
        "features, labels = next(trainiter)\n",
        "features.shape, labels.shape"
      ],
      "execution_count": null,
      "outputs": [
        {
          "output_type": "execute_result",
          "data": {
            "text/plain": [
              "(torch.Size([16, 3072]), torch.Size([16]))"
            ]
          },
          "metadata": {},
          "execution_count": 88
        }
      ]
    },
    {
      "cell_type": "code",
      "metadata": {
        "id": "pTpFzjGxX8cP",
        "colab": {
          "base_uri": "https://localhost:8080/"
        },
        "outputId": "a091aff3-430a-4aa6-fbc1-8c983df43f76"
      },
      "source": [
        "# Set up criterion and optimizer\n",
        "\n",
        "criterion = nn.CrossEntropyLoss()\n",
        "optimizer = optim.Adam(model.parameters(), lr=0.001) \n",
        "\n",
        "for p in optimizer.param_groups[0]['params']:\n",
        "    if p.requires_grad:\n",
        "        print(p.shape)\n"
      ],
      "execution_count": null,
      "outputs": [
        {
          "output_type": "stream",
          "name": "stdout",
          "text": [
            "torch.Size([50, 3072])\n",
            "torch.Size([50])\n",
            "torch.Size([10, 50])\n",
            "torch.Size([10])\n"
          ]
        }
      ]
    },
    {
      "cell_type": "code",
      "metadata": {
        "id": "feL2jumrUhRJ",
        "colab": {
          "base_uri": "https://localhost:8080/"
        },
        "outputId": "97591549-7770-4a38-eb0f-380ed5483b8f"
      },
      "source": [
        "from timeit import default_timer as timer\n",
        "save_file_name = f'cifar_model_best_model.pt'\n",
        "train_on_gpu = cuda.is_available()\n",
        "\n",
        "model, history = train(model,\n",
        "    criterion,\n",
        "    optimizer,\n",
        "    dataloaders['train'], \n",
        "    dataloaders['valid'],\n",
        "    save_file_name=save_file_name,\n",
        "    max_epochs_stop=3,\n",
        "    n_epochs=500,\n",
        "    print_every=1)"
      ],
      "execution_count": null,
      "outputs": [
        {
          "output_type": "stream",
          "name": "stdout",
          "text": [
            "Starting Training from Scratch.\n",
            "\n",
            "\n",
            "Epoch: 0 \tTraining Loss: 9.0861 \tValidation Loss: 2.4744\n",
            "\t\tTraining Accuracy: 21.97%\t Validation Accuracy: 21.10%\n",
            "\n",
            "Epoch: 1 \tTraining Loss: 3.8432 \tValidation Loss: 3.1817\n",
            "\t\tTraining Accuracy: 18.75%\t Validation Accuracy: 23.70%\n",
            "\n",
            "Epoch: 2 \tTraining Loss: 4.5587 \tValidation Loss: 4.5779\n",
            "\t\tTraining Accuracy: 17.93%\t Validation Accuracy: 19.90%\n",
            "\n",
            "Epoch: 3 \tTraining Loss: 4.7410 \tValidation Loss: 3.7158\n",
            "\t\tTraining Accuracy: 17.74%\t Validation Accuracy: 20.90%\n",
            "\n",
            "Early Stopping! Total epochs: 3. Best epoch: 0 with loss: 2.47 and acc: 20.90%\n",
            "61.03 total seconds elapsed. 15.26 seconds per epoch.\n"
          ]
        }
      ]
    },
    {
      "cell_type": "code",
      "metadata": {
        "id": "xlzAjeIDUohp",
        "colab": {
          "base_uri": "https://localhost:8080/",
          "height": 581
        },
        "outputId": "568d2eb3-18c5-4c9d-9454-d12600af51bc"
      },
      "source": [
        "plt.figure(figsize=(8, 6))\n",
        "for c in ['train_loss', 'valid_loss']:\n",
        "    plt.plot(\n",
        "        history[c], label=c)\n",
        "plt.legend()\n",
        "plt.xlabel('Epoch')\n",
        "plt.ylabel('Average Negative Log Likelihood')\n",
        "plt.title('Training and Validation Losses')\n",
        "plt.show()"
      ],
      "execution_count": null,
      "outputs": [
        {
          "output_type": "execute_result",
          "data": {
            "text/plain": [
              "<Figure size 800x600 with 0 Axes>"
            ]
          },
          "metadata": {},
          "execution_count": 92
        },
        {
          "output_type": "execute_result",
          "data": {
            "text/plain": [
              "[<matplotlib.lines.Line2D at 0x7fc7965c9b20>]"
            ]
          },
          "metadata": {},
          "execution_count": 92
        },
        {
          "output_type": "execute_result",
          "data": {
            "text/plain": [
              "[<matplotlib.lines.Line2D at 0x7fc7965c9fd0>]"
            ]
          },
          "metadata": {},
          "execution_count": 92
        },
        {
          "output_type": "execute_result",
          "data": {
            "text/plain": [
              "<matplotlib.legend.Legend at 0x7fc7967e1370>"
            ]
          },
          "metadata": {},
          "execution_count": 92
        },
        {
          "output_type": "execute_result",
          "data": {
            "text/plain": [
              "Text(0.5, 0, 'Epoch')"
            ]
          },
          "metadata": {},
          "execution_count": 92
        },
        {
          "output_type": "execute_result",
          "data": {
            "text/plain": [
              "Text(0, 0.5, 'Average Negative Log Likelihood')"
            ]
          },
          "metadata": {},
          "execution_count": 92
        },
        {
          "output_type": "execute_result",
          "data": {
            "text/plain": [
              "Text(0.5, 1.0, 'Training and Validation Losses')"
            ]
          },
          "metadata": {},
          "execution_count": 92
        },
        {
          "output_type": "display_data",
          "data": {
            "text/plain": [
              "<Figure size 800x600 with 1 Axes>"
            ],
            "image/png": "[encoded data removed]"
          },
          "metadata": {}
        }
      ]
    },
    {
      "cell_type": "code",
      "metadata": {
        "id": "nwjRiBhWUsdy",
        "colab": {
          "base_uri": "https://localhost:8080/",
          "height": 581
        },
        "outputId": "6ddc3163-159d-49c5-bc46-da5c39296773"
      },
      "source": [
        "plt.figure(figsize=(8, 6))\n",
        "for c in ['train_acc', 'valid_acc']:\n",
        "    plt.plot(\n",
        "        100 * history[c], label=c)\n",
        "plt.legend()\n",
        "plt.xlabel('Epoch')\n",
        "plt.ylabel('Average Accuracy')\n",
        "plt.title('Training and Validation Accuracy')\n",
        "plt.show()"
      ],
      "execution_count": null,
      "outputs": [
        {
          "output_type": "execute_result",
          "data": {
            "text/plain": [
              "<Figure size 800x600 with 0 Axes>"
            ]
          },
          "metadata": {},
          "execution_count": 93
        },
        {
          "output_type": "execute_result",
          "data": {
            "text/plain": [
              "[<matplotlib.lines.Line2D at 0x7fc7967ca580>]"
            ]
          },
          "metadata": {},
          "execution_count": 93
        },
        {
          "output_type": "execute_result",
          "data": {
            "text/plain": [
              "[<matplotlib.lines.Line2D at 0x7fc7967caa00>]"
            ]
          },
          "metadata": {},
          "execution_count": 93
        },
        {
          "output_type": "execute_result",
          "data": {
            "text/plain": [
              "<matplotlib.legend.Legend at 0x7fc796cafa30>"
            ]
          },
          "metadata": {},
          "execution_count": 93
        },
        {
          "output_type": "execute_result",
          "data": {
            "text/plain": [
              "Text(0.5, 0, 'Epoch')"
            ]
          },
          "metadata": {},
          "execution_count": 93
        },
        {
          "output_type": "execute_result",
          "data": {
            "text/plain": [
              "Text(0, 0.5, 'Average Accuracy')"
            ]
          },
          "metadata": {},
          "execution_count": 93
        },
        {
          "output_type": "execute_result",
          "data": {
            "text/plain": [
              "Text(0.5, 1.0, 'Training and Validation Accuracy')"
            ]
          },
          "metadata": {},
          "execution_count": 93
        },
        {
          "output_type": "display_data",
          "data": {
            "text/plain": [
              "<Figure size 800x600 with 1 Axes>"
            ],
            "image/png": "[encoded data removed]"
          },
          "metadata": {}
        }
      ]
    },
    {
      "cell_type": "markdown",
      "metadata": {
        "id": "fhsY7oawmNWu"
      },
      "source": [
        "##Improve The Performance\n"
      ]
    },
    {
      "cell_type": "code",
      "source": [
        "# Updated to include batch normalization layers.\n",
        "import numpy as np\n",
        "import pandas as pd\n",
        "import torch\n",
        "import torchvision\n",
        "from torch import nn, optim\n",
        "from torch.utils.data import DataLoader, TensorDataset\n",
        "from timeit import default_timer as timer\n",
        "from torchvision import transforms\n",
        "\n",
        "\n",
        "class bmodel(nn.Module):\n",
        "    def __init__(self, input_d, hidden_d, output_d):\n",
        "        super().__init__()\n",
        "\n",
        "        self.fc1 = nn.Linear(input_d, hidden_d)\n",
        "        self.bn1 = nn.BatchNorm1d(hidden_d)\n",
        "        self.fc2 = nn.Linear(hidden_d, hidden_d)\n",
        "        self.bn2 = nn.BatchNorm1d(hidden_d)\n",
        "        self.fc3 = nn.Linear(hidden_d, output_d)\n",
        "        self.relu = nn.ReLU()\n",
        "\n",
        "    def forward(self, x):\n",
        "        x = self.relu(self.bn1(self.fc1(x)))\n",
        "        x = self.relu(self.bn2(self.fc2(x)))\n",
        "        x = self.fc3(x)\n",
        "        return x\n"
      ],
      "metadata": {
        "id": "UvUKjQzvqR_Q"
      },
      "execution_count": null,
      "outputs": []
    },
    {
      "cell_type": "code",
      "source": [
        "# Use the transformations with data augmentation\n",
        "transform_train = transforms.Compose([\n",
        "    transforms.RandomHorizontalFlip(),\n",
        "    transforms.RandomRotation(10),\n",
        "    transforms.ToTensor(),\n",
        "    transforms.Normalize((0.5, 0.5, 0.5), (0.5, 0.5, 0.5))\n",
        "])\n",
        "\n",
        "trainset = torchvision.datasets.CIFAR10(root='./data', train=True, download=True, transform=transform_train)\n",
        "train_loader = torch.utils.data.DataLoader(trainset, batch_size=100, shuffle=True, num_workers=2)"
      ],
      "metadata": {
        "colab": {
          "base_uri": "https://localhost:8080/"
        },
        "id": "5CcxJ9AAq79w",
        "outputId": "9420a943-aad2-4cf6-9bdc-b3061136daeb"
      },
      "execution_count": null,
      "outputs": [
        {
          "output_type": "stream",
          "name": "stdout",
          "text": [
            "Downloading https://www.cs.toronto.edu/~kriz/cifar-10-python.tar.gz to ./data/cifar-10-python.tar.gz\n"
          ]
        },
        {
          "output_type": "stream",
          "name": "stderr",
          "text": [
            "100%|██████████| 170498071/170498071 [00:13<00:00, 12909321.41it/s]\n"
          ]
        },
        {
          "output_type": "stream",
          "name": "stdout",
          "text": [
            "Extracting ./data/cifar-10-python.tar.gz to ./data\n"
          ]
        }
      ]
    },
    {
      "cell_type": "code",
      "metadata": {
        "id": "ZFcxylevmxrF"
      },
      "source": [
        "# Added scheduler \n",
        "def train(model,\n",
        "          criterion,\n",
        "          optimizer,\n",
        "          scheduler, \n",
        "          train_loader,\n",
        "          valid_loader,\n",
        "          save_file_name,\n",
        "          max_epochs_stop=3,\n",
        "          n_epochs=10,\n",
        "          print_every=1):\n",
        "\n",
        "\n",
        "    \"\"\"Train a PyTorch Model\n",
        "\n",
        "        \n",
        "    Params\n",
        "    --------\n",
        "        model (PyTorch model): cnn to train\n",
        "        criterion (PyTorch loss): objective to minimize\n",
        "        optimizer (PyTorch optimizier): optimizer to compute gradients of model parameters\n",
        "        train_loader (PyTorch dataloader): training dataloader to iterate through\n",
        "        valid_loader (PyTorch dataloader): validation dataloader used for early stopping\n",
        "        save_file_name (str ending in '.pt'): file path to save the model state dict\n",
        "        max_epochs_stop (int): maximum number of epochs with no improvement in validation loss for early stopping\n",
        "        n_epochs (int): maximum number of training epochs\n",
        "        print_every (int): frequency of epochs to print training stats\n",
        "\n",
        "    Returns\n",
        "    --------\n",
        "        model (PyTorch model): trained cnn with best weights\n",
        "        history (DataFrame): history of train and validation loss and accuracy\n",
        "    \"\"\"\n",
        "\n",
        "    # Early stopping intialization\n",
        "    epochs_no_improve = 0\n",
        "    valid_loss_min = np.Inf\n",
        "\n",
        "    valid_max_acc = 0\n",
        "    history = []\n",
        "\n",
        "    # Number of epochs already trained (if using loaded in model weights)\n",
        "    try:\n",
        "        print(f'Model has been trained for: {model.epochs} epochs.\\n')\n",
        "    except:\n",
        "        model.epochs = 0\n",
        "        print(f'Starting Training from Scratch.\\n')\n",
        "\n",
        "        if train_on_gpu:\n",
        "           model = model.cuda()\n",
        "\n",
        "    overall_start = timer()\n",
        "\n",
        "    # Main loop\n",
        "    for epoch in range(n_epochs):\n",
        "\n",
        "        # keep track of training and validation loss each epoch\n",
        "        train_loss = 0.0\n",
        "        valid_loss = 0.0\n",
        "\n",
        "        train_acc = 0\n",
        "        valid_acc = 0\n",
        "\n",
        "        # Set to training\n",
        "        model.train()\n",
        "\n",
        "        start = timer()\n",
        "\n",
        "        # Training loop\n",
        "        for ii, (data, target) in enumerate(train_loader):\n",
        "            \n",
        "            # Tensors to gpu, both model parameters, data, and target need to be tensors.\n",
        "            if train_on_gpu:\n",
        "                data, target = data.cuda(), target.cuda()\n",
        "\n",
        "            # Clear gradients\n",
        "            optimizer.zero_grad()\n",
        "            \n",
        "            # Forward path\n",
        "            output = model(data)\n",
        "\n",
        "\n",
        "            # Loss function \n",
        "            loss = criterion(output, target)\n",
        "\n",
        "            # Backward path (backpropagation)\n",
        "            loss.backward()\n",
        "\n",
        "            # Update the parameters\n",
        "            optimizer.step()\n",
        "\n",
        "            # Track train loss by multiplying average loss by number of examples in batch\n",
        "            train_loss += loss.item() * data.size(0)\n",
        "\n",
        "            # Calculate accuracy by finding max log probability\n",
        "            _, pred = torch.max(output, dim=1)\n",
        "            correct_tensor = pred.eq(target.data.view_as(pred))\n",
        "\n",
        "            # Need to convert correct tensor from int to float to average\n",
        "            accuracy = torch.mean(correct_tensor.type(torch.FloatTensor))\n",
        "\n",
        "            # Multiply average accuracy times the number of examples in batch\n",
        "            train_acc += accuracy.item() * data.size(0)\n",
        "\n",
        "            # Track training progress\n",
        "            print(\n",
        "                f'Epoch: {epoch}\\t{100 * (ii + 1) / len(train_loader):.2f}% complete. {timer() - start:.2f} seconds elapsed in epoch.',\n",
        "                end='\\r')\n",
        "\n",
        "        # After training loops ends, start validation\n",
        "        else:\n",
        "            model.epochs += 1\n",
        "\n",
        "            # Don't need to keep track of gradients\n",
        "            with torch.no_grad():\n",
        "\n",
        "                # Set to evaluation mode\n",
        "                model.eval()\n",
        "\n",
        "                # Validation loop\n",
        "                for data, target in valid_loader:\n",
        "                    # Tensors to gpu\n",
        "                    if train_on_gpu:\n",
        "                      data, target = data.cuda(), target.cuda()\n",
        "\n",
        "                    # Forward path\n",
        "                    output = model(data)\n",
        "\n",
        "                    # Validation loss computation\n",
        "                    loss = criterion(output, target)\n",
        "\n",
        "                    # Multiply average loss times the number of examples in batch\n",
        "                    valid_loss += loss.item() * data.size(0)\n",
        "\n",
        "                    # Calculate validation accuracy\n",
        "                    _, pred = torch.max(output, dim=1)\n",
        "                    correct_tensor = pred.eq(target.data.view_as(pred))\n",
        "                    accuracy = torch.mean(correct_tensor.type(torch.FloatTensor))\n",
        "\n",
        "                    # Multiply average accuracy times the number of examples\n",
        "                    valid_acc += accuracy.item() * data.size(0)\n",
        "\n",
        "\n",
        "                # Calculate average losses and Calculate average accuracy\n",
        "                train_loss = train_loss / len(train_loader.dataset)\n",
        "                valid_loss = valid_loss / len(valid_loader.dataset)\n",
        "\n",
        "                train_acc = train_acc / len(train_loader.dataset)\n",
        "                valid_acc = valid_acc / len(valid_loader.dataset)\n",
        "\n",
        "                history.append([train_loss, valid_loss, train_acc, valid_acc])\n",
        "\n",
        "                scheduler.step(valid_loss)\n",
        "\n",
        "                # Print training and validation results\n",
        "                if (epoch + 1) % print_every == 0:\n",
        "                    print(\n",
        "                        f'\\nEpoch: {epoch} \\tTraining Loss: {train_loss:.4f} \\tValidation Loss: {valid_loss:.4f}'\n",
        "                    )\n",
        "                    print(\n",
        "                        f'\\t\\tTraining Accuracy: {100 * train_acc:.2f}%\\t Validation Accuracy: {100 * valid_acc:.2f}%'\n",
        "                    )\n",
        "\n",
        "                # Save the model if validation loss decreases\n",
        "                if valid_loss < valid_loss_min:\n",
        "                    # Save model \n",
        "                    torch.save(model.state_dict(), save_file_name)\n",
        "\n",
        "\n",
        "                    # Track improvement\n",
        "                    epochs_no_improve = 0\n",
        "                    valid_loss_min = valid_loss\n",
        "                    valid_best_acc = valid_acc\n",
        "                    best_epoch = epoch\n",
        "\n",
        "                # Otherwise increment count of epochs with no improvement\n",
        "                else:\n",
        "                    epochs_no_improve += 1\n",
        "                    # Trigger early stopping\n",
        "                    if epochs_no_improve >= max_epochs_stop:\n",
        "                        print(\n",
        "                            f'\\nEarly Stopping! Total epochs: {epoch}. Best epoch: {best_epoch} with loss: {valid_loss_min:.2f} and acc: {100 * valid_acc:.2f}%'\n",
        "                        )\n",
        "                        total_time = timer() - overall_start\n",
        "                        print(\n",
        "                            f'{total_time:.2f} total seconds elapsed. {total_time / (epoch+1):.2f} seconds per epoch.'\n",
        "                        )\n",
        "\n",
        "                        # Load the best state dict\n",
        "                        model.load_state_dict(torch.load(save_file_name))\n",
        "\n",
        "                        # Attach the optimizer\n",
        "                        model.optimizer = optimizer\n",
        "\n",
        "                        # Format history\n",
        "                        history = pd.DataFrame(\n",
        "                            history,\n",
        "                            columns=[\n",
        "                                'train_loss', 'valid_loss', 'train_acc',\n",
        "                                'valid_acc'\n",
        "                            ])\n",
        "                        return model, history\n",
        "\n",
        "    # Attach the optimizer\n",
        "    model.optimizer = optimizer\n",
        "    # Record overall time and print out stats\n",
        "    total_time = timer() - overall_start\n",
        "    print(\n",
        "        f'\\nBest epoch: {best_epoch} with loss: {valid_loss_min:.2f} and acc: {100 * valid_best_acc:.2f}%'\n",
        "    )\n",
        "    print(\n",
        "        f'{total_time:.2f} total seconds elapsed. {total_time / (epoch+1):.2f} seconds per epoch.'\n",
        "    )\n",
        "    # Format history\n",
        "    history = pd.DataFrame(\n",
        "        history,\n",
        "        columns=['train_loss', 'valid_loss', 'train_acc', 'valid_acc'])\n",
        "    \n",
        "    return model, history"
      ],
      "execution_count": null,
      "outputs": []
    },
    {
      "cell_type": "code",
      "source": [
        "# Instantiate the model, criterion, optimizer, and learning rate scheduler\n",
        "input_size = 32 * 32 * 3\n",
        "hidden_size = 50\n",
        "num_classes = 10\n",
        "\n",
        "model = bmodel(input_size, hidden_size, num_classes)\n",
        "criterion = nn.CrossEntropyLoss()\n",
        "optimizer = optim.Adam(model.parameters(), lr=0.001)\n",
        "scheduler = torch.optim.lr_scheduler.ReduceLROnPlateau(optimizer, 'min', patience=2, factor=0.1)"
      ],
      "metadata": {
        "id": "ntadD7nhr_mB"
      },
      "execution_count": null,
      "outputs": []
    },
    {
      "cell_type": "code",
      "source": [
        "# Datasets from folders\n",
        "batch_size = 16\n",
        "# Transfer the data from numpy to tensor\n",
        "data = {\n",
        "    'train': TensorDataset(torch.from_numpy(train_X.reshape(-1, input_size)).float(), torch.from_numpy(train_Y).long()),\n",
        "    'valid': TensorDataset(torch.from_numpy(validation_X.reshape(-1, input_size)).float(), torch.from_numpy(validation_Y).long())\n",
        "}\n",
        "\n",
        "\n",
        "# Dataloader iterators, make sure to shuffle\n",
        "dataloaders = {\n",
        "    'train': DataLoader(data['train'], batch_size=batch_size, shuffle=True,num_workers=10),\n",
        "    'valid': DataLoader(data['valid'], batch_size=batch_size, shuffle=False, num_workers=10)\n",
        "}\n",
        "\n",
        "# Iterate through the dataloader once\n",
        "trainiter = iter(dataloaders['train'])\n",
        "features, labels = next(trainiter)\n",
        "features.shape, labels.shape\n",
        "\n",
        "# Set up your criterion and optimizer\n",
        "criterion = nn.CrossEntropyLoss()\n",
        "optimizer = optim.Adam(model.parameters(), lr=0.001) \n",
        "\n",
        "for p in optimizer.param_groups[0]['params']:\n",
        "    if p.requires_grad:\n",
        "        print(p.shape)\n",
        "\n",
        "from timeit import default_timer as timer\n",
        "save_file_name = f'cifar_model_best_model.pt'\n",
        "train_on_gpu = cuda.is_available()\n",
        "\n",
        "model, history = train(model,\n",
        "    criterion,\n",
        "    optimizer,\n",
        "    scheduler,\n",
        "    dataloaders['train'], \n",
        "    dataloaders['valid'],\n",
        "    save_file_name=save_file_name,\n",
        "    max_epochs_stop=3,\n",
        "    n_epochs=500,\n",
        "    print_every=1)"
      ],
      "metadata": {
        "colab": {
          "base_uri": "https://localhost:8080/"
        },
        "id": "VOKaY8vLsroN",
        "outputId": "2441682e-d2f8-4c85-dbc3-cf3d80445e14"
      },
      "execution_count": null,
      "outputs": [
        {
          "output_type": "stream",
          "name": "stderr",
          "text": [
            "/usr/local/lib/python3.9/dist-packages/torch/utils/data/dataloader.py:561: UserWarning: This DataLoader will create 10 worker processes in total. Our suggested max number of worker in current system is 2, which is smaller than what this DataLoader is going to create. Please be aware that excessive worker creation might get DataLoader running slow or even freeze, lower the worker number to avoid potential slowness/freeze if necessary.\n",
            "  warnings.warn(_create_warning_msg(\n"
          ]
        },
        {
          "output_type": "execute_result",
          "data": {
            "text/plain": [
              "(torch.Size([16, 3072]), torch.Size([16]))"
            ]
          },
          "metadata": {},
          "execution_count": 109
        },
        {
          "output_type": "stream",
          "name": "stdout",
          "text": [
            "torch.Size([50, 3072])\n",
            "torch.Size([50])\n",
            "torch.Size([50])\n",
            "torch.Size([50])\n",
            "torch.Size([50, 50])\n",
            "torch.Size([50])\n",
            "torch.Size([50])\n",
            "torch.Size([50])\n",
            "torch.Size([10, 50])\n",
            "torch.Size([10])\n",
            "Starting Training from Scratch.\n",
            "\n",
            "\n",
            "Epoch: 0 \tTraining Loss: 1.7453 \tValidation Loss: 1.5131\n",
            "\t\tTraining Accuracy: 37.66%\t Validation Accuracy: 45.50%\n",
            "\n",
            "Epoch: 1 \tTraining Loss: 1.5937 \tValidation Loss: 1.4640\n",
            "\t\tTraining Accuracy: 43.21%\t Validation Accuracy: 47.40%\n",
            "\n",
            "Epoch: 2 \tTraining Loss: 1.5290 \tValidation Loss: 1.4244\n",
            "\t\tTraining Accuracy: 45.38%\t Validation Accuracy: 48.40%\n",
            "\n",
            "Epoch: 3 \tTraining Loss: 1.4902 \tValidation Loss: 1.3761\n",
            "\t\tTraining Accuracy: 47.14%\t Validation Accuracy: 50.10%\n",
            "\n",
            "Epoch: 4 \tTraining Loss: 1.4573 \tValidation Loss: 1.3613\n",
            "\t\tTraining Accuracy: 47.97%\t Validation Accuracy: 51.00%\n",
            "\n",
            "Epoch: 5 \tTraining Loss: 1.4350 \tValidation Loss: 1.3547\n",
            "\t\tTraining Accuracy: 48.78%\t Validation Accuracy: 51.30%\n",
            "\n",
            "Epoch: 6 \tTraining Loss: 1.4145 \tValidation Loss: 1.3455\n",
            "\t\tTraining Accuracy: 49.69%\t Validation Accuracy: 51.30%\n",
            "\n",
            "Epoch: 7 \tTraining Loss: 1.3971 \tValidation Loss: 1.3762\n",
            "\t\tTraining Accuracy: 50.04%\t Validation Accuracy: 51.10%\n",
            "\n",
            "Epoch: 8 \tTraining Loss: 1.3823 \tValidation Loss: 1.3207\n",
            "\t\tTraining Accuracy: 50.90%\t Validation Accuracy: 53.00%\n",
            "\n",
            "Epoch: 9 \tTraining Loss: 1.3675 \tValidation Loss: 1.3205\n",
            "\t\tTraining Accuracy: 51.73%\t Validation Accuracy: 52.80%\n",
            "\n",
            "Epoch: 10 \tTraining Loss: 1.3513 \tValidation Loss: 1.3146\n",
            "\t\tTraining Accuracy: 51.90%\t Validation Accuracy: 52.60%\n",
            "\n",
            "Epoch: 11 \tTraining Loss: 1.3398 \tValidation Loss: 1.3331\n",
            "\t\tTraining Accuracy: 52.12%\t Validation Accuracy: 52.30%\n",
            "\n",
            "Epoch: 12 \tTraining Loss: 1.3337 \tValidation Loss: 1.3192\n",
            "\t\tTraining Accuracy: 52.66%\t Validation Accuracy: 51.70%\n",
            "\n",
            "Epoch: 13 \tTraining Loss: 1.3277 \tValidation Loss: 1.3264\n",
            "\t\tTraining Accuracy: 52.88%\t Validation Accuracy: 52.30%\n",
            "\n",
            "Early Stopping! Total epochs: 13. Best epoch: 10 with loss: 1.31 and acc: 52.30%\n",
            "245.77 total seconds elapsed. 17.55 seconds per epoch.\n"
          ]
        }
      ]
    },
    {
      "cell_type": "code",
      "source": [
        "plt.figure(figsize=(8, 6))\n",
        "for c in ['train_loss', 'valid_loss']:\n",
        "    plt.plot(\n",
        "        history[c], label=c)\n",
        "plt.legend()\n",
        "plt.xlabel('Epoch')\n",
        "plt.ylabel('Average Negative Log Likelihood')\n",
        "plt.title('Training and Validation Losses')\n",
        "plt.show()"
      ],
      "metadata": {
        "colab": {
          "base_uri": "https://localhost:8080/",
          "height": 581
        },
        "id": "MUASS2xGvlbB",
        "outputId": "2ee772c8-3538-4806-ddfe-ee51d7b60a15"
      },
      "execution_count": null,
      "outputs": [
        {
          "output_type": "execute_result",
          "data": {
            "text/plain": [
              "<Figure size 800x600 with 0 Axes>"
            ]
          },
          "metadata": {},
          "execution_count": 110
        },
        {
          "output_type": "execute_result",
          "data": {
            "text/plain": [
              "[<matplotlib.lines.Line2D at 0x7fc796910730>]"
            ]
          },
          "metadata": {},
          "execution_count": 110
        },
        {
          "output_type": "execute_result",
          "data": {
            "text/plain": [
              "[<matplotlib.lines.Line2D at 0x7fc796910cd0>]"
            ]
          },
          "metadata": {},
          "execution_count": 110
        },
        {
          "output_type": "execute_result",
          "data": {
            "text/plain": [
              "<matplotlib.legend.Legend at 0x7fc7965c9d30>"
            ]
          },
          "metadata": {},
          "execution_count": 110
        },
        {
          "output_type": "execute_result",
          "data": {
            "text/plain": [
              "Text(0.5, 0, 'Epoch')"
            ]
          },
          "metadata": {},
          "execution_count": 110
        },
        {
          "output_type": "execute_result",
          "data": {
            "text/plain": [
              "Text(0, 0.5, 'Average Negative Log Likelihood')"
            ]
          },
          "metadata": {},
          "execution_count": 110
        },
        {
          "output_type": "execute_result",
          "data": {
            "text/plain": [
              "Text(0.5, 1.0, 'Training and Validation Losses')"
            ]
          },
          "metadata": {},
          "execution_count": 110
        },
        {
          "output_type": "display_data",
          "data": {
            "text/plain": [
              "<Figure size 800x600 with 1 Axes>"
            ],
            "image/png": "[encoded data removed]"
          },
          "metadata": {}
        }
      ]
    },
    {
      "cell_type": "code",
      "source": [
        "plt.figure(figsize=(8, 6))\n",
        "for c in ['train_acc', 'valid_acc']:\n",
        "    plt.plot(\n",
        "        100 * history[c], label=c)\n",
        "plt.legend()\n",
        "plt.xlabel('Epoch')\n",
        "plt.ylabel('Average Accuracy')\n",
        "plt.title('Training and Validation Accuracy')\n",
        "plt.show()"
      ],
      "metadata": {
        "colab": {
          "base_uri": "https://localhost:8080/",
          "height": 581
        },
        "id": "mf-gyAwjwTkW",
        "outputId": "fa947e99-23d8-4ea1-c01b-14748df13b0e"
      },
      "execution_count": null,
      "outputs": [
        {
          "output_type": "execute_result",
          "data": {
            "text/plain": [
              "<Figure size 800x600 with 0 Axes>"
            ]
          },
          "metadata": {},
          "execution_count": 111
        },
        {
          "output_type": "execute_result",
          "data": {
            "text/plain": [
              "[<matplotlib.lines.Line2D at 0x7fc795ae8c40>]"
            ]
          },
          "metadata": {},
          "execution_count": 111
        },
        {
          "output_type": "execute_result",
          "data": {
            "text/plain": [
              "[<matplotlib.lines.Line2D at 0x7fc795af5100>]"
            ]
          },
          "metadata": {},
          "execution_count": 111
        },
        {
          "output_type": "execute_result",
          "data": {
            "text/plain": [
              "<matplotlib.legend.Legend at 0x7fc79665cf70>"
            ]
          },
          "metadata": {},
          "execution_count": 111
        },
        {
          "output_type": "execute_result",
          "data": {
            "text/plain": [
              "Text(0.5, 0, 'Epoch')"
            ]
          },
          "metadata": {},
          "execution_count": 111
        },
        {
          "output_type": "execute_result",
          "data": {
            "text/plain": [
              "Text(0, 0.5, 'Average Accuracy')"
            ]
          },
          "metadata": {},
          "execution_count": 111
        },
        {
          "output_type": "execute_result",
          "data": {
            "text/plain": [
              "Text(0.5, 1.0, 'Training and Validation Accuracy')"
            ]
          },
          "metadata": {},
          "execution_count": 111
        },
        {
          "output_type": "display_data",
          "data": {
            "text/plain": [
              "<Figure size 800x600 with 1 Axes>"
            ],
            "image/png": "[encoded data removed]"
          },
          "metadata": {}
        }
      ]
    }
  ]
}